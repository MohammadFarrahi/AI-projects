{
 "cells": [
  {
   "cell_type": "markdown",
   "metadata": {},
   "source": []
  },
  {
   "cell_type": "markdown",
   "metadata": {},
   "source": [
    "# AI-CA1-Seaching"
   ]
  },
  {
   "cell_type": "markdown",
   "metadata": {},
   "source": [
    "## Abstract: In this project, we are going to get familiar with searching problems. We try to model the problem in project description, such that it can be considered a searching problem. Then we use different searching algorithms for solving it and compare their execution time."
   ]
  },
  {
   "cell_type": "markdown",
   "metadata": {},
   "source": [
    "## Modeling problem:\n",
    "## In following, search problem components for this problem are mentioned:\n",
    "## State:\n",
    "## Every state, consists of : position of unvisited mixtures(green sells), position of unvisited medicines(red cells), position of existing doctors(agents) and some othre information like cost of state or history of doctors path until this state. The first three information(position of unchecked green cells and red cells and position of existing doctors) are state specific and we use them to differentiate states from eachother in expanded states set(sometimes, dependent to algorithm we use, cost of state is also used for differentiation).\n",
    "## Initial state:\n",
    "## In this state, position of unvisited green and red cells, are identical to input green and red cells and we have only one existing agent at position of (0,0).( And if (0,0) is a red or green cell, this will be handled in preprocess of creating this state(in __init__ method) )\n",
    "## Goal state:\n",
    "## In this state, number of unchecked green cells of state is zero and all existing agents must be in up right corner(position (n-1,m-1)). The algorithm stops when this state is achieved.\n",
    "## Action:\n",
    "## Each action consists of moving one of agents of state that we are applying action on and checking if new position of moved agent is red or green to change unchecked red cells and add to existing agents or change unchecked green cells respectively(which leads to creation of new state). Note that in implementation, we apply acation, implicitly in preprocess of creation of new state(__init__ method)."
   ]
  },
  {
   "cell_type": "markdown",
   "metadata": {},
   "source": [
    "## Implementation of State:\n",
    "### \\_\\_init\\_\\_ : this is for creating new state: transmiting parent info or initiating initial state - applying action and check new agent position - assigning heuristic value for state if we use A*\n",
    "### unique_str(_ids) : string id of state for differentiating with other states\n",
    "### \\_\\_lt\\_\\_ : this method is needed in A* algorithm for priority queue and compares evaluation fuction value of 2 states\n",
    "### is_goal_state : return true if number of unvisited green cells of state is zero and all agents are in target cell"
   ]
  },
  {
   "cell_type": "code",
   "execution_count": 1,
   "metadata": {},
   "outputs": [],
   "source": [
    "# start position\n",
    "START = (0,0)\n",
    "\n",
    "class State:\n",
    "    ALGORITHM = None\n",
    "    ALPHA = 1\n",
    "    def __init__(self, parent = None, direction = '', agent_index = 0, changed_pos = START):\n",
    "        if parent != None:     # transmiting parent state info to new state\n",
    "            self.history = parent.history\n",
    "            self.cost = parent.cost\n",
    "            self.agents = [*parent.agents]\n",
    "            self.unchecked_greens = [*parent.unchecked_greens]\n",
    "            self.unchecked_reds = [*parent.unchecked_reds]\n",
    "            # applying action\n",
    "            self.agents[agent_index] = changed_pos\n",
    "            self.cost += 1\n",
    "            self.history += str(agent_index) + direction + ' '\n",
    "\n",
    "        else:                  # if it is initial state\n",
    "            self.history = ''\n",
    "            self.cost = 0\n",
    "            self.agents = [START]\n",
    "            self.unchecked_greens = [*green_cells]\n",
    "            self.unchecked_reds = [*red_cells]\n",
    "\n",
    "        # if new agent position is red cell\n",
    "        if changed_pos in self.unchecked_reds:\n",
    "            self.agents.append((n-1,0))\n",
    "            self.unchecked_reds.remove(changed_pos)\n",
    "            if (n-1,0) in self.unchecked_reds:\n",
    "                self.agents.append((n-1,0))\n",
    "                self.unchecked_reds.remove((n-1,0))\n",
    "        # if new agent position is green cell\n",
    "        elif changed_pos in self.unchecked_greens:\n",
    "            self.unchecked_greens.remove(changed_pos)\n",
    "\n",
    "        # heurisitc cost of state for when we use A* algorithm\n",
    "        if State.ALGORITHM == A_STAR:\n",
    "            self.heuristic = calculate_heuristic(self, State.ALPHA)\n",
    "\n",
    "    def unique_str(self):      # string id of state\n",
    "        return str([*self.agents, *self.unchecked_greens, *self.unchecked_reds])\n",
    "\n",
    "    def unique_str_ids(self):      # string id of state for IDS algorithm\n",
    "        return str([*self.agents, *self.unchecked_greens, *self.unchecked_reds, self.cost])\n",
    "    \n",
    "    # this method is needed in A* algorithm for priority queue\n",
    "    # and compares evaluation fuction value of 2 states\n",
    "    def __lt__(self, other):\n",
    "        return self.heuristic + self.cost < other.heuristic + other.cost\n",
    "\n",
    "    def is_goal_state(self):       # return if it is goal state\n",
    "        return len(self.unchecked_greens) == 0 and len(set(self.agents)) == 1 and self.agents[0] == TARGET\n",
    "    \n",
    "    def print_state(self):      # printig state\n",
    "        # print('position of doctors: ', list(enumerate(self.agents)))        # for debugging\n",
    "        # print('position of unvisited mixtures: ', self.unchecked_greens)    # for debugging\n",
    "        # print('position of unvisited medicines: ', self.unchecked_reds)     # for debugging\n",
    "        print('agents path till this state: ', self.history)\n",
    "        print('cost till this state: ', self.cost)\n",
    "        print('-------------------------------------------------------\\n')"
   ]
  },
  {
   "cell_type": "markdown",
   "metadata": {},
   "source": [
    "## BFS Algorithm:\n",
    "## In this algorithm, we use a queue(_states_queue_ in code) as a frontier and a set(_expanded_states_ in code) to avoid duplicating in expanding states that are already expanded( or pending to expand). First, we enqueue initial state to frontier. Then at each step of while loop, we dequeue a state from frontier and expand it. For each child state we first check whether it is goal state and if it is, we finish algorithm and return it as answer; But if it is not, after duplicate states checking, it may enqueue to frontier and therefore it _expanded_states_ set. Note that in _expanded_states_ set, what we're actually adding is string id of state, not state itself."
   ]
  },
  {
   "cell_type": "code",
   "execution_count": 2,
   "metadata": {},
   "outputs": [],
   "source": [
    "from queue import Queue\n",
    "\n",
    "BFS = 0\n",
    "def bfs(initial_state):\n",
    "    expanded_states = set()\n",
    "    states_queue = Queue()\n",
    "\n",
    "    states_queue.put(initial_state)\n",
    "    while True:\n",
    "        curr_state = states_queue.get()\n",
    "        for child_state in expand_state(curr_state):\n",
    "            if child_state.is_goal_state():\n",
    "                return child_state\n",
    "            if child_state.unique_str() not in expanded_states:\n",
    "                states_queue.put(child_state)\n",
    "                expanded_states.add(child_state.unique_str())"
   ]
  },
  {
   "cell_type": "markdown",
   "metadata": {},
   "source": [
    "## IDS Algorithm:\n",
    "## In this Algorithm, we use DFS algorithm as subroutine, and at each step of while loop, we apply DFS on initial state with _max_level_ equal to max_cost(starting from 0 and increasing it at each step) until we returned goal state is not None. Finally we return final state."
   ]
  },
  {
   "cell_type": "code",
   "execution_count": 3,
   "metadata": {},
   "outputs": [],
   "source": [
    "IDS = 1\n",
    "def ids(initial_state):\n",
    "    max_cost = 0\n",
    "    goal_state = None\n",
    "    while goal_state == None:\n",
    "        expanded_states = set()\n",
    "        expanded_states.add(initial_state)\n",
    "        goal_state = dfs(initial_state, max_cost, expanded_states)\n",
    "        max_cost+=1\n",
    "    return goal_state"
   ]
  },
  {
   "cell_type": "markdown",
   "metadata": {},
   "source": [
    "## Description of _dfs_ function:\n",
    "## This fucntion iterates over child states of its argument state; For each child state, first it checks if child state is goal state(and if it is, fucntion returns it), then if it is not a duplicate state, adds its id to _expanded_states_ and recursively apply _dfs_ on it, only if the cost of child state is less than max_level(to satisfy IDS algorithm limit); If called _dfs_ returns valid answer, it returns that answer otherwise it moves to next child state.\n",
    "### Note that in _dfs_, we use a _expanded_states_ set too, with exact same purpose in BFS algoritm but with little difference in string id of state; In this one, cost of state is also part of id of state."
   ]
  },
  {
   "cell_type": "code",
   "execution_count": 4,
   "metadata": {},
   "outputs": [],
   "source": [
    "def dfs(state, max_level, expanded_states):\n",
    "    to_return = None\n",
    "    for child_state in expand_state(state):\n",
    "            if child_state.is_goal_state():\n",
    "                return child_state\n",
    "            if child_state.unique_str_ids() not in expanded_states:\n",
    "                expanded_states.add(child_state.unique_str_ids())\n",
    "                if child_state.cost >= max_level:\n",
    "                    continue\n",
    "                to_return = dfs(child_state, max_level, expanded_states)\n",
    "                if to_return != None:\n",
    "                    return to_return\n",
    "    return to_return"
   ]
  },
  {
   "cell_type": "markdown",
   "metadata": {},
   "source": [
    "## A* Algorithm:\n",
    "## This algorithm is very similar to BFS algorithm; The only change is the type of queue that is used for forntier. In this one, we use priority queue or min_heap as frontier. For inserting in this heap, states will be compare to eachother based on evaluation function value(current cost + heuristic value) that is implemented in State class(_\\_\\_lt\\_\\__ method). For popping from heap, the state with lowest evaluation function value, will pop up and will be expanded."
   ]
  },
  {
   "cell_type": "code",
   "execution_count": 5,
   "metadata": {},
   "outputs": [],
   "source": [
    "import heapq\n",
    "from bisect import insort\n",
    "\n",
    "A_STAR = 2\n",
    "def A_star(initial_state):\n",
    "    expanded_states = set()\n",
    "    heap = []\n",
    "\n",
    "    insort(heap, initial_state)\n",
    "    while True:\n",
    "        curr_state = heapq.heappop(heap)\n",
    "        for child_state in expand_state(curr_state):\n",
    "            if child_state.is_goal_state():\n",
    "                return child_state\n",
    "            if child_state.unique_str() not in expanded_states:\n",
    "                insort(heap, child_state)\n",
    "                expanded_states.add(child_state.unique_str())"
   ]
  },
  {
   "cell_type": "markdown",
   "metadata": {},
   "source": [
    "## Heuristic funciton:\n",
    "$\\begin{equation}\n",
    " heuristic=\\sum_{agent}^\\ min(Manhattan(agent,target), min(Manhattan(agent, mixtures)))\n",
    " \\end{equation}$\n",
    " \n",
    "## As equation shows, heuristic of each state is calaulted by summation of this value for all agents of state:\n",
    "## minimum of Manhattan distance of agtent and each item in set of $[taregt, mixture_1, mixture_2, ... , mixure_c]$\n",
    "## It is consistent: Real cost of moving form parent state to child state is 1(just one moved agent in child state). Also $heuristic(parent) - heuristic(child) \\leq 1$ ; Because in child state, just one of agents has moved and only manhattan distance of that agent and nearest position of above set, has decreased by 1(actually $heuristic(parent) - heuristic(child)$ can sometimes be negative. Because if moved agent in child state is reached its nearest position, now the manhattan related to that agent may increase.)"
   ]
  },
  {
   "cell_type": "code",
   "execution_count": 6,
   "metadata": {},
   "outputs": [],
   "source": [
    "def calculate_heuristic(state, alpha = 1):\n",
    "    heurisitc = 0\n",
    "    for agent_pos in state.agents:\n",
    "        agent_heurisitc = (n+m-(2+agent_pos[0]+agent_pos[1]))\n",
    "        for green_pos in state.unchecked_greens:\n",
    "            agent_heurisitc = min(agent_heurisitc, abs(agent_pos[0]-green_pos[0])+abs(agent_pos[1]-green_pos[1]))\n",
    "        heurisitc += agent_heurisitc\n",
    "    return heurisitc * alpha"
   ]
  },
  {
   "cell_type": "markdown",
   "metadata": {},
   "source": [
    "## _expand_state_ fuction:\n",
    "## This fucntion generates all possible child states that its argument state can have(the process of applying action will be in state object instantiating). A child state of a given state can achieved by simply moving one of existing agents of state to valid neighbor position; _get_neighbor_position_ fucntion return such position and it will be _None_ if it is invalid(like out of bound or a bloked cell). Note that for each agent position in outer loop, we have a little optimization in such way that if all green cells are visited(which means all agents must go to target position) and agent is already in taregt positon, we do not move that agent."
   ]
  },
  {
   "cell_type": "code",
   "execution_count": 7,
   "metadata": {},
   "outputs": [],
   "source": [
    "def expand_state(state):\n",
    "    global COUNT\n",
    "    for index, agent_pos in enumerate(state.agents):\n",
    "        if agent_pos == TARGET and len(state.unchecked_greens) == 0:\n",
    "            continue \n",
    "        for direction in ['U','R','D','L']:\n",
    "            new_pos = get_neighbor_pos(direction, agent_pos)\n",
    "            if new_pos != None:\n",
    "                COUNT += 1\n",
    "                yield State(state, direction, index, new_pos)\n",
    "\n",
    "def get_neighbor_pos(direction, pos):\n",
    "    x = pos[0]\n",
    "    y = pos[1]\n",
    "    if direction == 'U':\n",
    "        x+=1\n",
    "    elif direction == 'R':\n",
    "        y+=1\n",
    "    elif direction == 'D':\n",
    "        x-=1\n",
    "    else:\n",
    "        y-=1\n",
    "    if 0 <= x and x < n and 0 <= y and y < m and (x,y) not in blocks:\n",
    "            return (x,y)\n",
    "    return None"
   ]
  },
  {
   "cell_type": "markdown",
   "metadata": {},
   "source": [
    "## Runnig algorithms"
   ]
  },
  {
   "cell_type": "code",
   "execution_count": 8,
   "metadata": {},
   "outputs": [],
   "source": [
    "from time import time\n",
    "COUNT = 0"
   ]
  },
  {
   "cell_type": "markdown",
   "metadata": {},
   "source": [
    "## Test 1"
   ]
  },
  {
   "cell_type": "markdown",
   "metadata": {},
   "source": [
    "## Reading input"
   ]
  },
  {
   "cell_type": "code",
   "execution_count": 9,
   "metadata": {},
   "outputs": [],
   "source": [
    "n, m, c, k, d, TARGET = 0,0,0,0,0,0\n",
    "green_cells = []\n",
    "red_cells = []\n",
    "blocks = []\n",
    "with open('test1.in', 'r') as fd:\n",
    "    n, m = map(int, fd.readline().strip().split())\n",
    "    TARGET = (n-1,m-1)\n",
    "    c, k = map(int, fd.readline().strip().split())\n",
    "    for _ in range(c):\n",
    "        i, j = map(int, fd.readline().strip().split())\n",
    "        green_cells.append((i,j))\n",
    "    for _ in range(k):\n",
    "        i, j = map(int, fd.readline().strip().split())\n",
    "        red_cells.append((i,j))\n",
    "    d = int(fd.readline().strip())\n",
    "    for _ in range(d):\n",
    "        i, j = map(int, fd.readline().strip().split())\n",
    "        blocks.append((i,j))"
   ]
  },
  {
   "cell_type": "markdown",
   "metadata": {},
   "source": [
    "### BFS"
   ]
  },
  {
   "cell_type": "code",
   "execution_count": 10,
   "metadata": {},
   "outputs": [
    {
     "name": "stdout",
     "output_type": "stream",
     "text": [
      "bfs-test1 :\n",
      "execution time: 0.02414393424987793 seconds\n",
      "agents path till this state:  0R 0R 0R 0U 0U 0U 1D 1U 1R 1R 1R \n",
      "cost till this state:  11\n",
      "-------------------------------------------------------\n",
      "\n"
     ]
    }
   ],
   "source": [
    "State.ALGORITHM = BFS\n",
    "initial_state = State()\n",
    "\n",
    "exe_time = time()\n",
    "answer = bfs(initial_state)\n",
    "exe_time = time() - exe_time\n",
    "print('bfs-test1 :')\n",
    "print('execution time: %s seconds' % exe_time)\n",
    "answer.print_state()\n",
    "\n",
    "\n",
    "average_bfs_time = 0\n",
    "COUNT = 0\n",
    "# run1\n",
    "exe_time = time()\n",
    "bfs_answer = bfs(initial_state)\n",
    "exe_time = time() - exe_time\n",
    "average_bfs_time += exe_time\n",
    "state_count_bfs = COUNT\n",
    "# run2\n",
    "exe_time = time()\n",
    "bfs(initial_state)\n",
    "exe_time = time() - exe_time\n",
    "average_bfs_time += exe_time\n",
    "# run3\n",
    "exe_time = time()\n",
    "bfs(initial_state)\n",
    "exe_time = time() - exe_time\n",
    "average_bfs_time += exe_time\n",
    "\n",
    "average_bfs_time *= 1000\n",
    "average_bfs_time /= 3"
   ]
  },
  {
   "cell_type": "markdown",
   "metadata": {},
   "source": [
    "### IDS"
   ]
  },
  {
   "cell_type": "code",
   "execution_count": 11,
   "metadata": {},
   "outputs": [
    {
     "name": "stdout",
     "output_type": "stream",
     "text": [
      "ids-test1 :\n",
      "execution time: 0.15030574798583984 seconds\n",
      "agents path till this state:  0R 0R 0R 0U 0U 0U 1D 1U 1R 1R 1R \n",
      "cost till this state:  11\n",
      "-------------------------------------------------------\n",
      "\n"
     ]
    }
   ],
   "source": [
    "State.ALGORITHM = IDS\n",
    "\n",
    "exe_time = time()\n",
    "answer = ids(initial_state)\n",
    "exe_time = time() - exe_time\n",
    "print('ids-test1 :')\n",
    "print('execution time: %s seconds' % exe_time)\n",
    "answer.print_state()\n",
    "\n",
    "\n",
    "average_ids_time = 0\n",
    "COUNT = 0\n",
    "# run1\n",
    "exe_time = time()\n",
    "ids_answer = ids(initial_state)\n",
    "exe_time = time() - exe_time\n",
    "average_ids_time += exe_time\n",
    "state_count_ids = COUNT\n",
    "# run2\n",
    "exe_time = time()\n",
    "ids(initial_state)\n",
    "exe_time = time() - exe_time\n",
    "average_ids_time += exe_time\n",
    "# run3\n",
    "exe_time = time()\n",
    "ids(initial_state)\n",
    "exe_time = time() - exe_time\n",
    "average_ids_time += exe_time\n",
    "\n",
    "average_ids_time *= 1000\n",
    "average_ids_time /= 3"
   ]
  },
  {
   "cell_type": "markdown",
   "metadata": {},
   "source": [
    "### A*"
   ]
  },
  {
   "cell_type": "code",
   "execution_count": 12,
   "metadata": {},
   "outputs": [
    {
     "name": "stdout",
     "output_type": "stream",
     "text": [
      "A*-test1 :\n",
      "execution time: 0.012711048126220703 seconds\n",
      "agents path till this state:  0R 1D 1R 1R 1R 0R 0R 1U 0U 0U 0U \n",
      "cost till this state:  11\n",
      "-------------------------------------------------------\n",
      "\n"
     ]
    }
   ],
   "source": [
    "State.ALGORITHM = A_STAR\n",
    "\n",
    "exe_time = time()\n",
    "answer = A_star(initial_state)\n",
    "exe_time = time() - exe_time\n",
    "print('A*-test1 :')\n",
    "print('execution time: %s seconds' % exe_time)\n",
    "answer.print_state()\n",
    "\n",
    "\n",
    "average_Astar_time = 0\n",
    "COUNT = 0\n",
    "# run1\n",
    "exe_time = time()\n",
    "Astar_answer = A_star(initial_state)\n",
    "exe_time = time() - exe_time\n",
    "average_Astar_time += exe_time\n",
    "state_count_Astar = COUNT\n",
    "# run2\n",
    "exe_time = time()\n",
    "A_star(initial_state)\n",
    "exe_time = time() - exe_time\n",
    "average_Astar_time += exe_time\n",
    "# run3\n",
    "exe_time = time()\n",
    "A_star(initial_state)\n",
    "exe_time = time() - exe_time\n",
    "average_Astar_time += exe_time\n",
    "\n",
    "average_Astar_time *= 1000\n",
    "average_Astar_time /= 3"
   ]
  },
  {
   "cell_type": "markdown",
   "metadata": {},
   "source": [
    "### A* alpha = 2, 3"
   ]
  },
  {
   "cell_type": "code",
   "execution_count": 13,
   "metadata": {},
   "outputs": [
    {
     "name": "stdout",
     "output_type": "stream",
     "text": [
      "A* alpha=2-test1 :\n",
      "execution time: 0.03864741325378418 seconds\n",
      "agents path till this state:  0R 0R 0L 0U 0L 1R 1R 1R 0U 0U 0R 0R 0R \n",
      "cost till this state:  13\n",
      "-------------------------------------------------------\n",
      "\n",
      "A* alpha=3-test1 :\n",
      "execution time: 0.00991511344909668 seconds\n",
      "agents path till this state:  0R 1D 1R 1U 1R 1R 0R 0R 0U 0U 0U \n",
      "cost till this state:  11\n",
      "-------------------------------------------------------\n",
      "\n"
     ]
    }
   ],
   "source": [
    "# alpha = 2\n",
    "State.ALPHA = 2\n",
    "exe_time = time()\n",
    "alpha2_answer = A_star(initial_state)\n",
    "exe_time = time() - exe_time\n",
    "print('A* alpha=2-test1 :')\n",
    "print('execution time: %s seconds' % exe_time)\n",
    "alpha2_answer.print_state()\n",
    "\n",
    "average_alpha2_time = 0\n",
    "COUNT = 0\n",
    "# run1\n",
    "exe_time = time()\n",
    "A_star(initial_state)\n",
    "exe_time = time() - exe_time\n",
    "average_alpha2_time += exe_time\n",
    "state_count_alpha2 = COUNT\n",
    "# run2\n",
    "exe_time = time()\n",
    "A_star(initial_state)\n",
    "exe_time = time() - exe_time\n",
    "average_alpha2_time += exe_time\n",
    "# run3\n",
    "exe_time = time()\n",
    "A_star(initial_state)\n",
    "exe_time = time() - exe_time\n",
    "average_alpha2_time += exe_time\n",
    "\n",
    "average_alpha2_time *= 1000\n",
    "average_alpha2_time /= 3\n",
    "\n",
    "\n",
    "# alpha = 3\n",
    "State.ALPHA = 3\n",
    "exe_time = time()\n",
    "alpha3_answer = A_star(initial_state)\n",
    "exe_time = time() - exe_time\n",
    "print('A* alpha=3-test1 :')\n",
    "print('execution time: %s seconds' % exe_time)\n",
    "alpha3_answer.print_state()\n",
    "\n",
    "average_alpha3_time = 0\n",
    "COUNT = 0\n",
    "# run1\n",
    "exe_time = time()\n",
    "A_star(initial_state)\n",
    "exe_time = time() - exe_time\n",
    "average_alpha3_time += exe_time\n",
    "state_count_alpha3 = COUNT\n",
    "# run2\n",
    "exe_time = time()\n",
    "A_star(initial_state)\n",
    "exe_time = time() - exe_time\n",
    "average_alpha3_time += exe_time\n",
    "# run3\n",
    "exe_time = time()\n",
    "A_star(initial_state)\n",
    "exe_time = time() - exe_time\n",
    "average_alpha3_time += exe_time\n",
    "\n",
    "average_alpha3_time *= 1000\n",
    "average_alpha3_time /= 3"
   ]
  },
  {
   "cell_type": "markdown",
   "metadata": {},
   "source": [
    "### table info"
   ]
  },
  {
   "cell_type": "code",
   "execution_count": 14,
   "metadata": {},
   "outputs": [
    {
     "name": "stdout",
     "output_type": "stream",
     "text": [
      "BFS - Test1 :\n",
      "answer distance(cost) : 11\n",
      "#visited_states : 3788\n",
      "average exe time(ms) : 17.742156982421875\n",
      "-------------------------------------------------\n",
      "IDS - Test1 :\n",
      "answer distance(cost) : 11\n",
      "#visited_states : 23377\n",
      "average exe time(ms) : 103.68410746256511\n",
      "--------------------------------------------------\n",
      "A* - Test1 :\n",
      "answer distance(cost) : 11\n",
      "#visited_states : 1173\n",
      "average exe time(ms) : 10.8186403910319\n",
      "--------------------------------------------------\n",
      "Alpha2 - Test1 :\n",
      "answer distance(cost) : 13\n",
      "#visited_states : 1775\n",
      "average exe time(ms) : 13.06454340616862\n",
      "--------------------------------------------------\n",
      "Alpha3 - Test1 :\n",
      "answer distance(cost) : 11\n",
      "#visited_states : 1585\n",
      "average exe time(ms) : 10.529836018880209\n"
     ]
    }
   ],
   "source": [
    "print('BFS - Test1 :')\n",
    "print('answer distance(cost) :', bfs_answer.cost)\n",
    "print('#visited_states :', state_count_bfs)\n",
    "print('average exe time(ms) :', average_bfs_time)\n",
    "print('-------------------------------------------------')\n",
    "print('IDS - Test1 :')\n",
    "print('answer distance(cost) :', ids_answer.cost)\n",
    "print('#visited_states :', state_count_ids)\n",
    "print('average exe time(ms) :', average_ids_time)\n",
    "print('--------------------------------------------------')\n",
    "print('A* - Test1 :')\n",
    "print('answer distance(cost) :', Astar_answer.cost)\n",
    "print('#visited_states :', state_count_Astar)\n",
    "print('average exe time(ms) :', average_Astar_time)\n",
    "print('--------------------------------------------------')\n",
    "print('Alpha2 - Test1 :')\n",
    "print('answer distance(cost) :', alpha2_answer.cost)\n",
    "print('#visited_states :', state_count_alpha2)\n",
    "print('average exe time(ms) :', average_alpha2_time)\n",
    "print('--------------------------------------------------')\n",
    "print('Alpha3 - Test1 :')\n",
    "print('answer distance(cost) :', alpha3_answer.cost)\n",
    "print('#visited_states :', state_count_alpha3)\n",
    "print('average exe time(ms) :', average_alpha3_time)"
   ]
  },
  {
   "cell_type": "markdown",
   "metadata": {},
   "source": [
    "## Test2"
   ]
  },
  {
   "cell_type": "markdown",
   "metadata": {},
   "source": [
    "## Reading input"
   ]
  },
  {
   "cell_type": "code",
   "execution_count": 15,
   "metadata": {},
   "outputs": [],
   "source": [
    "n, m, c, k, d, TARGET = 0,0,0,0,0,0\n",
    "green_cells = []\n",
    "red_cells = []\n",
    "blocks = []\n",
    "with open('test2.in', 'r') as fd:\n",
    "    n, m = map(int, fd.readline().strip().split())\n",
    "    TARGET = (n-1,m-1)\n",
    "    c, k = map(int, fd.readline().strip().split())\n",
    "    for _ in range(c):\n",
    "        i, j = map(int, fd.readline().strip().split())\n",
    "        green_cells.append((i,j))\n",
    "    for _ in range(k):\n",
    "        i, j = map(int, fd.readline().strip().split())\n",
    "        red_cells.append((i,j))\n",
    "    d = int(fd.readline().strip())\n",
    "    for _ in range(d):\n",
    "        i, j = map(int, fd.readline().strip().split())\n",
    "        blocks.append((i,j))"
   ]
  },
  {
   "cell_type": "markdown",
   "metadata": {},
   "source": [
    "### BFS"
   ]
  },
  {
   "cell_type": "code",
   "execution_count": 16,
   "metadata": {},
   "outputs": [
    {
     "name": "stdout",
     "output_type": "stream",
     "text": [
      "bfs-test2 :\n",
      "execution time: 2.9450762271881104 seconds\n",
      "agents path till this state:  0R 0R 0U 0U 0U 0R 1D 1R 1R 1U 1R \n",
      "cost till this state:  11\n",
      "-------------------------------------------------------\n",
      "\n"
     ]
    }
   ],
   "source": [
    "State.ALGORITHM = BFS\n",
    "initial_state = State()\n",
    "\n",
    "exe_time = time()\n",
    "answer = bfs(initial_state)\n",
    "exe_time = time() - exe_time\n",
    "print('bfs-test2 :')\n",
    "print('execution time: %s seconds' % exe_time)\n",
    "answer.print_state()\n",
    "\n",
    "\n",
    "average_bfs_time = 0\n",
    "COUNT = 0\n",
    "# run1\n",
    "exe_time = time()\n",
    "bfs_answer = bfs(initial_state)\n",
    "exe_time = time() - exe_time\n",
    "average_bfs_time += exe_time\n",
    "state_count_bfs = COUNT\n",
    "# run2\n",
    "exe_time = time()\n",
    "bfs(initial_state)\n",
    "exe_time = time() - exe_time\n",
    "average_bfs_time += exe_time\n",
    "# run3\n",
    "exe_time = time()\n",
    "bfs(initial_state)\n",
    "exe_time = time() - exe_time\n",
    "average_bfs_time += exe_time\n",
    "\n",
    "average_bfs_time *= 1000\n",
    "average_bfs_time /= 3"
   ]
  },
  {
   "cell_type": "markdown",
   "metadata": {},
   "source": [
    "### IDS"
   ]
  },
  {
   "cell_type": "code",
   "execution_count": 17,
   "metadata": {},
   "outputs": [
    {
     "name": "stdout",
     "output_type": "stream",
     "text": [
      "ids-test2 :\n",
      "execution time: 6.005188226699829 seconds\n",
      "agents path till this state:  0R 0R 0U 0U 0U 0R 1D 1R 1R 1U 1R \n",
      "cost till this state:  11\n",
      "-------------------------------------------------------\n",
      "\n"
     ]
    }
   ],
   "source": [
    "State.ALGORITHM = IDS\n",
    "\n",
    "exe_time = time()\n",
    "answer = ids(initial_state)\n",
    "exe_time = time() - exe_time\n",
    "print('ids-test2 :')\n",
    "print('execution time: %s seconds' % exe_time)\n",
    "answer.print_state()\n",
    "\n",
    "\n",
    "average_ids_time = 0\n",
    "COUNT = 0\n",
    "# run1\n",
    "exe_time = time()\n",
    "ids_answer = ids(initial_state)\n",
    "exe_time = time() - exe_time\n",
    "average_ids_time += exe_time\n",
    "state_count_ids = COUNT\n",
    "# run2\n",
    "exe_time = time()\n",
    "ids(initial_state)\n",
    "exe_time = time() - exe_time\n",
    "average_ids_time += exe_time\n",
    "# run3\n",
    "exe_time = time()\n",
    "ids(initial_state)\n",
    "exe_time = time() - exe_time\n",
    "average_ids_time += exe_time\n",
    "\n",
    "average_ids_time *= 1000\n",
    "average_ids_time /= 3"
   ]
  },
  {
   "cell_type": "markdown",
   "metadata": {},
   "source": [
    "### A*"
   ]
  },
  {
   "cell_type": "code",
   "execution_count": 18,
   "metadata": {},
   "outputs": [
    {
     "name": "stdout",
     "output_type": "stream",
     "text": [
      "A*-test2 :\n",
      "execution time: 0.1378180980682373 seconds\n",
      "agents path till this state:  0R 0R 0U 0U 0R 0U 1D 1R 1R 1U 1R \n",
      "cost till this state:  11\n",
      "-------------------------------------------------------\n",
      "\n"
     ]
    }
   ],
   "source": [
    "State.ALGORITHM = A_STAR\n",
    "State.ALPHA = 1\n",
    "exe_time = time()\n",
    "answer = A_star(initial_state)\n",
    "exe_time = time() - exe_time\n",
    "print('A*-test2 :')\n",
    "print('execution time: %s seconds' % exe_time)\n",
    "answer.print_state()\n",
    "\n",
    "\n",
    "average_Astar_time = 0\n",
    "COUNT = 0\n",
    "# run1\n",
    "exe_time = time()\n",
    "Astar_answer = A_star(initial_state)\n",
    "exe_time = time() - exe_time\n",
    "average_Astar_time += exe_time\n",
    "state_count_Astar = COUNT\n",
    "# run2\n",
    "exe_time = time()\n",
    "A_star(initial_state)\n",
    "exe_time = time() - exe_time\n",
    "average_Astar_time += exe_time\n",
    "# run3\n",
    "exe_time = time()\n",
    "A_star(initial_state)\n",
    "exe_time = time() - exe_time\n",
    "average_Astar_time += exe_time\n",
    "\n",
    "average_Astar_time *= 1000\n",
    "average_Astar_time /= 3"
   ]
  },
  {
   "cell_type": "markdown",
   "metadata": {},
   "source": [
    "### A* alpha=2,3"
   ]
  },
  {
   "cell_type": "code",
   "execution_count": 19,
   "metadata": {},
   "outputs": [
    {
     "name": "stdout",
     "output_type": "stream",
     "text": [
      "A* alpha=2-test2 :\n",
      "execution time: 0.05873394012451172 seconds\n",
      "agents path till this state:  0R 0R 0U 0U 0U 0R 1D 1R 1R 1U 1R \n",
      "cost till this state:  11\n",
      "-------------------------------------------------------\n",
      "\n",
      "A* alpha=3-test2 :\n",
      "execution time: 0.07074403762817383 seconds\n",
      "agents path till this state:  0R 0R 1D 1R 1R 1U 1R 0U 0U 0U 0R \n",
      "cost till this state:  11\n",
      "-------------------------------------------------------\n",
      "\n"
     ]
    }
   ],
   "source": [
    "# alpha = 2\n",
    "State.ALPHA = 2\n",
    "exe_time = time()\n",
    "alpha2_answer = A_star(initial_state)\n",
    "exe_time = time() - exe_time\n",
    "print('A* alpha=2-test2 :')\n",
    "print('execution time: %s seconds' % exe_time)\n",
    "alpha2_answer.print_state()\n",
    "\n",
    "average_alpha2_time = 0\n",
    "COUNT = 0\n",
    "# run1\n",
    "exe_time = time()\n",
    "A_star(initial_state)\n",
    "exe_time = time() - exe_time\n",
    "average_alpha2_time += exe_time\n",
    "state_count_alpha2 = COUNT\n",
    "# run2\n",
    "exe_time = time()\n",
    "A_star(initial_state)\n",
    "exe_time = time() - exe_time\n",
    "average_alpha2_time += exe_time\n",
    "# run3\n",
    "exe_time = time()\n",
    "A_star(initial_state)\n",
    "exe_time = time() - exe_time\n",
    "average_alpha2_time += exe_time\n",
    "\n",
    "average_alpha2_time *= 1000\n",
    "average_alpha2_time /= 3\n",
    "\n",
    "\n",
    "# alpha = 3\n",
    "State.ALPHA = 3\n",
    "exe_time = time()\n",
    "alpha3_answer = A_star(initial_state)\n",
    "exe_time = time() - exe_time\n",
    "print('A* alpha=3-test2 :')\n",
    "print('execution time: %s seconds' % exe_time)\n",
    "alpha3_answer.print_state()\n",
    "\n",
    "average_alpha3_time = 0\n",
    "COUNT = 0\n",
    "# run1\n",
    "exe_time = time()\n",
    "A_star(initial_state)\n",
    "exe_time = time() - exe_time\n",
    "average_alpha3_time += exe_time\n",
    "state_count_alpha3 = COUNT\n",
    "# run2\n",
    "exe_time = time()\n",
    "A_star(initial_state)\n",
    "exe_time = time() - exe_time\n",
    "average_alpha3_time += exe_time\n",
    "# run3\n",
    "exe_time = time()\n",
    "A_star(initial_state)\n",
    "exe_time = time() - exe_time\n",
    "average_alpha3_time += exe_time\n",
    "\n",
    "average_alpha3_time *= 1000\n",
    "average_alpha3_time /= 3"
   ]
  },
  {
   "cell_type": "markdown",
   "metadata": {},
   "source": [
    "### table info"
   ]
  },
  {
   "cell_type": "code",
   "execution_count": 20,
   "metadata": {},
   "outputs": [
    {
     "name": "stdout",
     "output_type": "stream",
     "text": [
      "BFS - Test2 :\n",
      "answer distance(cost) : 11\n",
      "#visited_states : 482477\n",
      "average exe time(ms) : 2749.4908968607583\n",
      "-------------------------------------------------\n",
      "IDS - Test2 :\n",
      "answer distance(cost) : 11\n",
      "#visited_states : 1258418\n",
      "average exe time(ms) : 5874.538421630859\n",
      "--------------------------------------------------\n",
      "A* - Test2 :\n",
      "answer distance(cost) : 11\n",
      "#visited_states : 10171\n",
      "average exe time(ms) : 117.23923683166504\n",
      "--------------------------------------------------\n",
      "Alpha2 - Test2 :\n",
      "answer distance(cost) : 11\n",
      "#visited_states : 4244\n",
      "average exe time(ms) : 51.93789800008138\n",
      "--------------------------------------------------\n",
      "Alpha3 - Test2 :\n",
      "answer distance(cost) : 11\n",
      "#visited_states : 6077\n",
      "average exe time(ms) : 94.07083193461101\n"
     ]
    }
   ],
   "source": [
    "print('BFS - Test2 :')\n",
    "print('answer distance(cost) :', bfs_answer.cost)\n",
    "print('#visited_states :', state_count_bfs)\n",
    "print('average exe time(ms) :', average_bfs_time)\n",
    "print('-------------------------------------------------')\n",
    "print('IDS - Test2 :')\n",
    "print('answer distance(cost) :', ids_answer.cost)\n",
    "print('#visited_states :', state_count_ids)\n",
    "print('average exe time(ms) :', average_ids_time)\n",
    "print('--------------------------------------------------')\n",
    "print('A* - Test2 :')\n",
    "print('answer distance(cost) :', Astar_answer.cost)\n",
    "print('#visited_states :', state_count_Astar)\n",
    "print('average exe time(ms) :', average_Astar_time)\n",
    "print('--------------------------------------------------')\n",
    "print('Alpha2 - Test2 :')\n",
    "print('answer distance(cost) :', alpha2_answer.cost)\n",
    "print('#visited_states :', state_count_alpha2)\n",
    "print('average exe time(ms) :', average_alpha2_time)\n",
    "print('--------------------------------------------------')\n",
    "print('Alpha3 - Test2 :')\n",
    "print('answer distance(cost) :', alpha3_answer.cost)\n",
    "print('#visited_states :', state_count_alpha3)\n",
    "print('average exe time(ms) :', average_alpha3_time)"
   ]
  },
  {
   "cell_type": "markdown",
   "metadata": {},
   "source": [
    "## Test3"
   ]
  },
  {
   "cell_type": "markdown",
   "metadata": {},
   "source": [
    "## Reading input"
   ]
  },
  {
   "cell_type": "code",
   "execution_count": 21,
   "metadata": {},
   "outputs": [],
   "source": [
    "n, m, c, k, d, TARGET = 0,0,0,0,0,0\n",
    "green_cells = []\n",
    "red_cells = []\n",
    "blocks = []\n",
    "with open('test3.in', 'r') as fd:\n",
    "    n, m = map(int, fd.readline().strip().split())\n",
    "    TARGET = (n-1,m-1)\n",
    "    c, k = map(int, fd.readline().strip().split())\n",
    "    for _ in range(c):\n",
    "        i, j = map(int, fd.readline().strip().split())\n",
    "        green_cells.append((i,j))\n",
    "    for _ in range(k):\n",
    "        i, j = map(int, fd.readline().strip().split())\n",
    "        red_cells.append((i,j))\n",
    "    d = int(fd.readline().strip())\n",
    "    for _ in range(d):\n",
    "        i, j = map(int, fd.readline().strip().split())\n",
    "        blocks.append((i,j))"
   ]
  },
  {
   "cell_type": "markdown",
   "metadata": {},
   "source": [
    "### BFS"
   ]
  },
  {
   "cell_type": "code",
   "execution_count": 22,
   "metadata": {},
   "outputs": [
    {
     "name": "stdout",
     "output_type": "stream",
     "text": [
      "bfs-test3 :\n",
      "execution time: 3.6254703998565674 seconds\n",
      "agents path till this state:  0U 0U 0R 0R 0D 0R 0R 0R 0U 0U 0U 0U 1R 1R 1R 1D 1U 1R 1R \n",
      "cost till this state:  19\n",
      "-------------------------------------------------------\n",
      "\n"
     ]
    }
   ],
   "source": [
    "State.ALGORITHM = BFS\n",
    "initial_state = State()\n",
    "\n",
    "exe_time = time()\n",
    "answer = bfs(initial_state)\n",
    "exe_time = time() - exe_time\n",
    "print('bfs-test3 :')\n",
    "print('execution time: %s seconds' % exe_time)\n",
    "answer.print_state()\n",
    "\n",
    "\n",
    "average_bfs_time = 0\n",
    "COUNT = 0\n",
    "# run1\n",
    "exe_time = time()\n",
    "bfs_answer = bfs(initial_state)\n",
    "exe_time = time() - exe_time\n",
    "average_bfs_time += exe_time\n",
    "state_count_bfs = COUNT\n",
    "# run2\n",
    "exe_time = time()\n",
    "bfs(initial_state)\n",
    "exe_time = time() - exe_time\n",
    "average_bfs_time += exe_time\n",
    "# run3\n",
    "exe_time = time()\n",
    "bfs(initial_state)\n",
    "exe_time = time() - exe_time\n",
    "average_bfs_time += exe_time\n",
    "\n",
    "average_bfs_time *= 1000\n",
    "average_bfs_time /= 3"
   ]
  },
  {
   "cell_type": "markdown",
   "metadata": {},
   "source": [
    "### IDS"
   ]
  },
  {
   "cell_type": "code",
   "execution_count": 23,
   "metadata": {},
   "outputs": [
    {
     "name": "stdout",
     "output_type": "stream",
     "text": [
      "ids-test3 :\n",
      "execution time: 12.5356285572052 seconds\n",
      "agents path till this state:  0U 0U 0R 0R 0D 0R 0R 0R 0U 0U 0U 0U 1R 1R 1R 1D 1U 1R 1R \n",
      "cost till this state:  19\n",
      "-------------------------------------------------------\n",
      "\n"
     ]
    }
   ],
   "source": [
    "State.ALGORITHM = IDS\n",
    "\n",
    "exe_time = time()\n",
    "answer = ids(initial_state)\n",
    "exe_time = time() - exe_time\n",
    "print('ids-test3 :')\n",
    "print('execution time: %s seconds' % exe_time)\n",
    "answer.print_state()\n",
    "\n",
    "\n",
    "average_ids_time = 0\n",
    "COUNT = 0\n",
    "# run1\n",
    "exe_time = time()\n",
    "ids_answer = ids(initial_state)\n",
    "exe_time = time() - exe_time\n",
    "average_ids_time += exe_time\n",
    "state_count_ids = COUNT\n",
    "# run2\n",
    "exe_time = time()\n",
    "ids(initial_state)\n",
    "exe_time = time() - exe_time\n",
    "average_ids_time += exe_time\n",
    "# run3\n",
    "exe_time = time()\n",
    "ids(initial_state)\n",
    "exe_time = time() - exe_time\n",
    "average_ids_time += exe_time\n",
    "\n",
    "average_ids_time *= 1000\n",
    "average_ids_time /= 3"
   ]
  },
  {
   "cell_type": "markdown",
   "metadata": {},
   "source": [
    "### A*"
   ]
  },
  {
   "cell_type": "code",
   "execution_count": 24,
   "metadata": {},
   "outputs": [
    {
     "name": "stdout",
     "output_type": "stream",
     "text": [
      "A*-test3 :\n",
      "execution time: 0.9421095848083496 seconds\n",
      "agents path till this state:  0U 0U 0R 0R 1R 1R 1R 0D 0R 1D 1U 0R 1R 1R 0R 0U 0U 0U 0U \n",
      "cost till this state:  19\n",
      "-------------------------------------------------------\n",
      "\n"
     ]
    }
   ],
   "source": [
    "State.ALGORITHM = A_STAR\n",
    "State.ALPHA = 1\n",
    "exe_time = time()\n",
    "answer = A_star(initial_state)\n",
    "exe_time = time() - exe_time\n",
    "print('A*-test3 :')\n",
    "print('execution time: %s seconds' % exe_time)\n",
    "answer.print_state()\n",
    "\n",
    "\n",
    "average_Astar_time = 0\n",
    "COUNT = 0\n",
    "# run1\n",
    "exe_time = time()\n",
    "Astar_answer = A_star(initial_state)\n",
    "exe_time = time() - exe_time\n",
    "average_Astar_time += exe_time\n",
    "state_count_Astar = COUNT\n",
    "# run2\n",
    "exe_time = time()\n",
    "A_star(initial_state)\n",
    "exe_time = time() - exe_time\n",
    "average_Astar_time += exe_time\n",
    "# run3\n",
    "exe_time = time()\n",
    "A_star(initial_state)\n",
    "exe_time = time() - exe_time\n",
    "average_Astar_time += exe_time\n",
    "\n",
    "average_Astar_time *= 1000\n",
    "average_Astar_time /= 3"
   ]
  },
  {
   "cell_type": "markdown",
   "metadata": {},
   "source": [
    "### A* alpha=2,3"
   ]
  },
  {
   "cell_type": "code",
   "execution_count": 25,
   "metadata": {},
   "outputs": [
    {
     "name": "stdout",
     "output_type": "stream",
     "text": [
      "A* alpha=2-test3 :\n",
      "execution time: 0.34029412269592285 seconds\n",
      "agents path till this state:  0U 0U 0R 0R 0D 0R 0R 1R 1R 1R 0R 0U 0U 0U 0U 1D 1R 1R 1U \n",
      "cost till this state:  19\n",
      "-------------------------------------------------------\n",
      "\n",
      "A* alpha=3-test3 :\n",
      "execution time: 0.22321605682373047 seconds\n",
      "agents path till this state:  0U 0U 0R 0R 0D 0R 0R 1R 1R 1R 0R 0U 1D 1U 1R 0U 0U 1R 0U \n",
      "cost till this state:  19\n",
      "-------------------------------------------------------\n",
      "\n"
     ]
    }
   ],
   "source": [
    "# alpha = 2\n",
    "State.ALPHA = 2\n",
    "exe_time = time()\n",
    "alpha2_answer = A_star(initial_state)\n",
    "exe_time = time() - exe_time\n",
    "print('A* alpha=2-test3 :')\n",
    "print('execution time: %s seconds' % exe_time)\n",
    "alpha2_answer.print_state()\n",
    "\n",
    "average_alpha2_time = 0\n",
    "COUNT = 0\n",
    "# run1\n",
    "exe_time = time()\n",
    "A_star(initial_state)\n",
    "exe_time = time() - exe_time\n",
    "average_alpha2_time += exe_time\n",
    "state_count_alpha2 = COUNT\n",
    "# run2\n",
    "exe_time = time()\n",
    "A_star(initial_state)\n",
    "exe_time = time() - exe_time\n",
    "average_alpha2_time += exe_time\n",
    "# run3\n",
    "exe_time = time()\n",
    "A_star(initial_state)\n",
    "exe_time = time() - exe_time\n",
    "average_alpha2_time += exe_time\n",
    "\n",
    "average_alpha2_time *= 1000\n",
    "average_alpha2_time /= 3\n",
    "\n",
    "\n",
    "# alpha = 3\n",
    "State.ALPHA = 3\n",
    "exe_time = time()\n",
    "alpha3_answer = A_star(initial_state)\n",
    "exe_time = time() - exe_time\n",
    "print('A* alpha=3-test3 :')\n",
    "print('execution time: %s seconds' % exe_time)\n",
    "alpha3_answer.print_state()\n",
    "\n",
    "average_alpha3_time = 0\n",
    "COUNT = 0\n",
    "# run1\n",
    "exe_time = time()\n",
    "A_star(initial_state)\n",
    "exe_time = time() - exe_time\n",
    "average_alpha3_time += exe_time\n",
    "state_count_alpha3 = COUNT\n",
    "# run2\n",
    "exe_time = time()\n",
    "A_star(initial_state)\n",
    "exe_time = time() - exe_time\n",
    "average_alpha3_time += exe_time\n",
    "# run3\n",
    "exe_time = time()\n",
    "A_star(initial_state)\n",
    "exe_time = time() - exe_time\n",
    "average_alpha3_time += exe_time\n",
    "\n",
    "average_alpha3_time *= 1000\n",
    "average_alpha3_time /= 3"
   ]
  },
  {
   "cell_type": "markdown",
   "metadata": {},
   "source": [
    "### table info"
   ]
  },
  {
   "cell_type": "code",
   "execution_count": 26,
   "metadata": {},
   "outputs": [
    {
     "name": "stdout",
     "output_type": "stream",
     "text": [
      "BFS - Test3 :\n",
      "answer distance(cost) : 19\n",
      "#visited_states : 591821\n",
      "average exe time(ms) : 3519.8185443878174\n",
      "-------------------------------------------------\n",
      "IDS - Test3 :\n",
      "answer distance(cost) : 19\n",
      "#visited_states : 2499345\n",
      "average exe time(ms) : 11962.80344327291\n",
      "--------------------------------------------------\n",
      "A* - Test3 :\n",
      "answer distance(cost) : 19\n",
      "#visited_states : 73921\n",
      "average exe time(ms) : 1007.0658524831136\n",
      "--------------------------------------------------\n",
      "Alpha2 - Test3 :\n",
      "answer distance(cost) : 19\n",
      "#visited_states : 25032\n",
      "average exe time(ms) : 312.46693929036456\n",
      "--------------------------------------------------\n",
      "Alpha3 - Test3 :\n",
      "answer distance(cost) : 19\n",
      "#visited_states : 13961\n",
      "average exe time(ms) : 165.57788848876953\n"
     ]
    }
   ],
   "source": [
    "print('BFS - Test3 :')\n",
    "print('answer distance(cost) :', bfs_answer.cost)\n",
    "print('#visited_states :', state_count_bfs)\n",
    "print('average exe time(ms) :', average_bfs_time)\n",
    "print('-------------------------------------------------')\n",
    "print('IDS - Test3 :')\n",
    "print('answer distance(cost) :', ids_answer.cost)\n",
    "print('#visited_states :', state_count_ids)\n",
    "print('average exe time(ms) :', average_ids_time)\n",
    "print('--------------------------------------------------')\n",
    "print('A* - Test3 :')\n",
    "print('answer distance(cost) :', Astar_answer.cost)\n",
    "print('#visited_states :', state_count_Astar)\n",
    "print('average exe time(ms) :', average_Astar_time)\n",
    "print('--------------------------------------------------')\n",
    "print('Alpha2 - Test3 :')\n",
    "print('answer distance(cost) :', alpha2_answer.cost)\n",
    "print('#visited_states :', state_count_alpha2)\n",
    "print('average exe time(ms) :', average_alpha2_time)\n",
    "print('--------------------------------------------------')\n",
    "print('Alpha3 - Test3 :')\n",
    "print('answer distance(cost) :', alpha3_answer.cost)\n",
    "print('#visited_states :', state_count_alpha3)\n",
    "print('average exe time(ms) :', average_alpha3_time)"
   ]
  },
  {
   "cell_type": "markdown",
   "metadata": {},
   "source": [
    "## Observation\n",
    "## According to table info for each test, we can say that first 3 algorithms are able to find optimal solution, but last two ones (A* with alpha) do not necessarily find(as we can see cost in A* - alpha=2 for Test1). In execution time, we can say IDS > BFS > A* . Time execution of A* with alpha is less than A* . The implementation of A* is very similar to BFS; It only use different type of queue and has heuristic function. Implementation of IDS is seems to be more difficalt than other ones. But if we have memeroy limits, it's better to use this one over bfs. In overall A* seems to be best choice; Because it is informed search algorithm and implementation is not that muth hard. The key point in this algorithm is hueristic function that if it is consistent, then we get best result. If we have some time limits in solving problem we can use this algorithm with weight(alpha) \n"
   ]
  }
 ],
 "metadata": {
  "interpreter": {
   "hash": "916dbcbb3f70747c44a77c7bcd40155683ae19c65e1c03b4aa3499c5328201f1"
  },
  "kernelspec": {
   "display_name": "Python 3.8.10 64-bit",
   "name": "python3"
  },
  "language_info": {
   "codemirror_mode": {
    "name": "ipython",
    "version": 3
   },
   "file_extension": ".py",
   "mimetype": "text/x-python",
   "name": "python",
   "nbconvert_exporter": "python",
   "pygments_lexer": "ipython3",
   "version": "3.8.10"
  },
  "orig_nbformat": 4
 },
 "nbformat": 4,
 "nbformat_minor": 2
}
