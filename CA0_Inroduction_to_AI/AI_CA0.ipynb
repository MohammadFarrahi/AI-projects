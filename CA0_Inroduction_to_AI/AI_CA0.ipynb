{
 "cells": [
  {
   "cell_type": "markdown",
   "source": [
    "# AI - CA0\n",
    "## Goal: Manipulating dataset with help of statistic analysis to handle missing data\n",
    "## Abstract: In this project, we use linear regression to predict the target data that is missed. In this process, we manipulate data of some features that may effect on target data. If there is any missed data among features data, we try to use appropriate statistic to fill them up.(like mean or mode). Finally we choose the best feature for using in linear regression and predicting target data\n"
   ],
   "metadata": {}
  },
  {
   "cell_type": "markdown",
   "source": [
    "#### importing necessary libraries:"
   ],
   "metadata": {}
  },
  {
   "cell_type": "code",
   "execution_count": 332,
   "source": [
    "import numpy as np\n",
    "import pandas as pd\n",
    "import matplotlib.pyplot as plt"
   ],
   "outputs": [],
   "metadata": {}
  },
  {
   "cell_type": "markdown",
   "source": [
    "### Q1"
   ],
   "metadata": {}
  },
  {
   "cell_type": "markdown",
   "source": [
    "Loading project data set:"
   ],
   "metadata": {}
  },
  {
   "cell_type": "code",
   "execution_count": 333,
   "source": [
    "df = pd.read_csv(\"FuelConsumptionCo2.csv\", index_col=0)"
   ],
   "outputs": [],
   "metadata": {}
  },
  {
   "cell_type": "code",
   "execution_count": 334,
   "source": [
    "df.head()"
   ],
   "outputs": [
    {
     "output_type": "execute_result",
     "data": {
      "text/html": [
       "<div>\n",
       "<style scoped>\n",
       "    .dataframe tbody tr th:only-of-type {\n",
       "        vertical-align: middle;\n",
       "    }\n",
       "\n",
       "    .dataframe tbody tr th {\n",
       "        vertical-align: top;\n",
       "    }\n",
       "\n",
       "    .dataframe thead th {\n",
       "        text-align: right;\n",
       "    }\n",
       "</style>\n",
       "<table border=\"1\" class=\"dataframe\">\n",
       "  <thead>\n",
       "    <tr style=\"text-align: right;\">\n",
       "      <th></th>\n",
       "      <th>MODELYEAR</th>\n",
       "      <th>MAKE</th>\n",
       "      <th>MODEL</th>\n",
       "      <th>VEHICLECLASS</th>\n",
       "      <th>ENGINESIZE</th>\n",
       "      <th>CYLINDERS</th>\n",
       "      <th>TRANSMISSION</th>\n",
       "      <th>FUELTYPE</th>\n",
       "      <th>FUELCONSUMPTION_CITY</th>\n",
       "      <th>FUELCONSUMPTION_HWY</th>\n",
       "      <th>FUELCONSUMPTION_COMB</th>\n",
       "      <th>FUELCONSUMPTION_COMB_MPG</th>\n",
       "      <th>CO2EMISSIONS</th>\n",
       "    </tr>\n",
       "  </thead>\n",
       "  <tbody>\n",
       "    <tr>\n",
       "      <th>0</th>\n",
       "      <td>2014</td>\n",
       "      <td>ACURA</td>\n",
       "      <td>ILX</td>\n",
       "      <td>COMPACT</td>\n",
       "      <td>2.0</td>\n",
       "      <td>4.0</td>\n",
       "      <td>AS5</td>\n",
       "      <td>Z</td>\n",
       "      <td>9.9</td>\n",
       "      <td>6.7</td>\n",
       "      <td>8.5</td>\n",
       "      <td>33</td>\n",
       "      <td>196.0</td>\n",
       "    </tr>\n",
       "    <tr>\n",
       "      <th>1</th>\n",
       "      <td>2014</td>\n",
       "      <td>ACURA</td>\n",
       "      <td>ILX</td>\n",
       "      <td>COMPACT</td>\n",
       "      <td>2.4</td>\n",
       "      <td>4.0</td>\n",
       "      <td>M6</td>\n",
       "      <td>Z</td>\n",
       "      <td>11.2</td>\n",
       "      <td>7.7</td>\n",
       "      <td>9.6</td>\n",
       "      <td>29</td>\n",
       "      <td>221.0</td>\n",
       "    </tr>\n",
       "    <tr>\n",
       "      <th>2</th>\n",
       "      <td>2014</td>\n",
       "      <td>ACURA</td>\n",
       "      <td>ILX HYBRID</td>\n",
       "      <td>COMPACT</td>\n",
       "      <td>1.5</td>\n",
       "      <td>4.0</td>\n",
       "      <td>AV7</td>\n",
       "      <td>Z</td>\n",
       "      <td>6.0</td>\n",
       "      <td>5.8</td>\n",
       "      <td>5.9</td>\n",
       "      <td>48</td>\n",
       "      <td>136.0</td>\n",
       "    </tr>\n",
       "    <tr>\n",
       "      <th>3</th>\n",
       "      <td>2014</td>\n",
       "      <td>ACURA</td>\n",
       "      <td>MDX 4WD</td>\n",
       "      <td>SUV - SMALL</td>\n",
       "      <td>3.5</td>\n",
       "      <td>6.0</td>\n",
       "      <td>AS6</td>\n",
       "      <td>Z</td>\n",
       "      <td>12.7</td>\n",
       "      <td>9.1</td>\n",
       "      <td>11.1</td>\n",
       "      <td>25</td>\n",
       "      <td>NaN</td>\n",
       "    </tr>\n",
       "    <tr>\n",
       "      <th>4</th>\n",
       "      <td>2014</td>\n",
       "      <td>ACURA</td>\n",
       "      <td>RDX AWD</td>\n",
       "      <td>SUV - SMALL</td>\n",
       "      <td>3.5</td>\n",
       "      <td>6.0</td>\n",
       "      <td>AS6</td>\n",
       "      <td>Z</td>\n",
       "      <td>12.1</td>\n",
       "      <td>8.7</td>\n",
       "      <td>10.6</td>\n",
       "      <td>27</td>\n",
       "      <td>244.0</td>\n",
       "    </tr>\n",
       "  </tbody>\n",
       "</table>\n",
       "</div>"
      ],
      "text/plain": [
       "   MODELYEAR   MAKE       MODEL VEHICLECLASS  ENGINESIZE  CYLINDERS  \\\n",
       "0       2014  ACURA         ILX      COMPACT         2.0        4.0   \n",
       "1       2014  ACURA         ILX      COMPACT         2.4        4.0   \n",
       "2       2014  ACURA  ILX HYBRID      COMPACT         1.5        4.0   \n",
       "3       2014  ACURA     MDX 4WD  SUV - SMALL         3.5        6.0   \n",
       "4       2014  ACURA     RDX AWD  SUV - SMALL         3.5        6.0   \n",
       "\n",
       "  TRANSMISSION FUELTYPE  FUELCONSUMPTION_CITY  FUELCONSUMPTION_HWY  \\\n",
       "0          AS5        Z                   9.9                  6.7   \n",
       "1           M6        Z                  11.2                  7.7   \n",
       "2          AV7        Z                   6.0                  5.8   \n",
       "3          AS6        Z                  12.7                  9.1   \n",
       "4          AS6        Z                  12.1                  8.7   \n",
       "\n",
       "   FUELCONSUMPTION_COMB  FUELCONSUMPTION_COMB_MPG  CO2EMISSIONS  \n",
       "0                   8.5                        33         196.0  \n",
       "1                   9.6                        29         221.0  \n",
       "2                   5.9                        48         136.0  \n",
       "3                  11.1                        25           NaN  \n",
       "4                  10.6                        27         244.0  "
      ]
     },
     "metadata": {},
     "execution_count": 334
    }
   ],
   "metadata": {}
  },
  {
   "cell_type": "markdown",
   "source": [
    "_head_ function return fist _n_ rows of data set. we can specify _n_ in argument. dufault is 5."
   ],
   "metadata": {}
  },
  {
   "cell_type": "code",
   "execution_count": 335,
   "source": [
    "df.tail()"
   ],
   "outputs": [
    {
     "output_type": "execute_result",
     "data": {
      "text/html": [
       "<div>\n",
       "<style scoped>\n",
       "    .dataframe tbody tr th:only-of-type {\n",
       "        vertical-align: middle;\n",
       "    }\n",
       "\n",
       "    .dataframe tbody tr th {\n",
       "        vertical-align: top;\n",
       "    }\n",
       "\n",
       "    .dataframe thead th {\n",
       "        text-align: right;\n",
       "    }\n",
       "</style>\n",
       "<table border=\"1\" class=\"dataframe\">\n",
       "  <thead>\n",
       "    <tr style=\"text-align: right;\">\n",
       "      <th></th>\n",
       "      <th>MODELYEAR</th>\n",
       "      <th>MAKE</th>\n",
       "      <th>MODEL</th>\n",
       "      <th>VEHICLECLASS</th>\n",
       "      <th>ENGINESIZE</th>\n",
       "      <th>CYLINDERS</th>\n",
       "      <th>TRANSMISSION</th>\n",
       "      <th>FUELTYPE</th>\n",
       "      <th>FUELCONSUMPTION_CITY</th>\n",
       "      <th>FUELCONSUMPTION_HWY</th>\n",
       "      <th>FUELCONSUMPTION_COMB</th>\n",
       "      <th>FUELCONSUMPTION_COMB_MPG</th>\n",
       "      <th>CO2EMISSIONS</th>\n",
       "    </tr>\n",
       "  </thead>\n",
       "  <tbody>\n",
       "    <tr>\n",
       "      <th>1062</th>\n",
       "      <td>2014</td>\n",
       "      <td>VOLVO</td>\n",
       "      <td>XC60 AWD</td>\n",
       "      <td>SUV - SMALL</td>\n",
       "      <td>3.0</td>\n",
       "      <td>6.0</td>\n",
       "      <td>AS6</td>\n",
       "      <td>X</td>\n",
       "      <td>13.4</td>\n",
       "      <td>9.8</td>\n",
       "      <td>11.8</td>\n",
       "      <td>24</td>\n",
       "      <td>271.0</td>\n",
       "    </tr>\n",
       "    <tr>\n",
       "      <th>1063</th>\n",
       "      <td>2014</td>\n",
       "      <td>VOLVO</td>\n",
       "      <td>XC60 AWD</td>\n",
       "      <td>SUV - SMALL</td>\n",
       "      <td>3.2</td>\n",
       "      <td>6.0</td>\n",
       "      <td>AS6</td>\n",
       "      <td>X</td>\n",
       "      <td>13.2</td>\n",
       "      <td>9.5</td>\n",
       "      <td>11.5</td>\n",
       "      <td>25</td>\n",
       "      <td>264.0</td>\n",
       "    </tr>\n",
       "    <tr>\n",
       "      <th>1064</th>\n",
       "      <td>2014</td>\n",
       "      <td>VOLVO</td>\n",
       "      <td>XC70 AWD</td>\n",
       "      <td>SUV - SMALL</td>\n",
       "      <td>3.0</td>\n",
       "      <td>6.0</td>\n",
       "      <td>AS6</td>\n",
       "      <td>X</td>\n",
       "      <td>13.4</td>\n",
       "      <td>9.8</td>\n",
       "      <td>11.8</td>\n",
       "      <td>24</td>\n",
       "      <td>271.0</td>\n",
       "    </tr>\n",
       "    <tr>\n",
       "      <th>1065</th>\n",
       "      <td>2014</td>\n",
       "      <td>VOLVO</td>\n",
       "      <td>XC70 AWD</td>\n",
       "      <td>SUV - SMALL</td>\n",
       "      <td>3.2</td>\n",
       "      <td>6.0</td>\n",
       "      <td>AS6</td>\n",
       "      <td>X</td>\n",
       "      <td>12.9</td>\n",
       "      <td>9.3</td>\n",
       "      <td>11.3</td>\n",
       "      <td>25</td>\n",
       "      <td>260.0</td>\n",
       "    </tr>\n",
       "    <tr>\n",
       "      <th>1066</th>\n",
       "      <td>2014</td>\n",
       "      <td>VOLVO</td>\n",
       "      <td>XC90 AWD</td>\n",
       "      <td>SUV - STANDARD</td>\n",
       "      <td>3.2</td>\n",
       "      <td>6.0</td>\n",
       "      <td>AS6</td>\n",
       "      <td>X</td>\n",
       "      <td>14.9</td>\n",
       "      <td>10.2</td>\n",
       "      <td>12.8</td>\n",
       "      <td>22</td>\n",
       "      <td>294.0</td>\n",
       "    </tr>\n",
       "  </tbody>\n",
       "</table>\n",
       "</div>"
      ],
      "text/plain": [
       "      MODELYEAR   MAKE     MODEL    VEHICLECLASS  ENGINESIZE  CYLINDERS  \\\n",
       "1062       2014  VOLVO  XC60 AWD     SUV - SMALL         3.0        6.0   \n",
       "1063       2014  VOLVO  XC60 AWD     SUV - SMALL         3.2        6.0   \n",
       "1064       2014  VOLVO  XC70 AWD     SUV - SMALL         3.0        6.0   \n",
       "1065       2014  VOLVO  XC70 AWD     SUV - SMALL         3.2        6.0   \n",
       "1066       2014  VOLVO  XC90 AWD  SUV - STANDARD         3.2        6.0   \n",
       "\n",
       "     TRANSMISSION FUELTYPE  FUELCONSUMPTION_CITY  FUELCONSUMPTION_HWY  \\\n",
       "1062          AS6        X                  13.4                  9.8   \n",
       "1063          AS6        X                  13.2                  9.5   \n",
       "1064          AS6        X                  13.4                  9.8   \n",
       "1065          AS6        X                  12.9                  9.3   \n",
       "1066          AS6        X                  14.9                 10.2   \n",
       "\n",
       "      FUELCONSUMPTION_COMB  FUELCONSUMPTION_COMB_MPG  CO2EMISSIONS  \n",
       "1062                  11.8                        24         271.0  \n",
       "1063                  11.5                        25         264.0  \n",
       "1064                  11.8                        24         271.0  \n",
       "1065                  11.3                        25         260.0  \n",
       "1066                  12.8                        22         294.0  "
      ]
     },
     "metadata": {},
     "execution_count": 335
    }
   ],
   "metadata": {}
  },
  {
   "cell_type": "markdown",
   "source": [
    "_tail_ function behaves similar to head fucntion. It returns _n_ last rows of data set."
   ],
   "metadata": {}
  },
  {
   "cell_type": "code",
   "execution_count": 336,
   "source": [
    "df.describe()"
   ],
   "outputs": [
    {
     "output_type": "execute_result",
     "data": {
      "text/html": [
       "<div>\n",
       "<style scoped>\n",
       "    .dataframe tbody tr th:only-of-type {\n",
       "        vertical-align: middle;\n",
       "    }\n",
       "\n",
       "    .dataframe tbody tr th {\n",
       "        vertical-align: top;\n",
       "    }\n",
       "\n",
       "    .dataframe thead th {\n",
       "        text-align: right;\n",
       "    }\n",
       "</style>\n",
       "<table border=\"1\" class=\"dataframe\">\n",
       "  <thead>\n",
       "    <tr style=\"text-align: right;\">\n",
       "      <th></th>\n",
       "      <th>MODELYEAR</th>\n",
       "      <th>ENGINESIZE</th>\n",
       "      <th>CYLINDERS</th>\n",
       "      <th>FUELCONSUMPTION_CITY</th>\n",
       "      <th>FUELCONSUMPTION_HWY</th>\n",
       "      <th>FUELCONSUMPTION_COMB</th>\n",
       "      <th>FUELCONSUMPTION_COMB_MPG</th>\n",
       "      <th>CO2EMISSIONS</th>\n",
       "    </tr>\n",
       "  </thead>\n",
       "  <tbody>\n",
       "    <tr>\n",
       "      <th>count</th>\n",
       "      <td>1067.0</td>\n",
       "      <td>1040.000000</td>\n",
       "      <td>1033.000000</td>\n",
       "      <td>1067.000000</td>\n",
       "      <td>1067.000000</td>\n",
       "      <td>1067.000000</td>\n",
       "      <td>1067.000000</td>\n",
       "      <td>964.000000</td>\n",
       "    </tr>\n",
       "    <tr>\n",
       "      <th>mean</th>\n",
       "      <td>2014.0</td>\n",
       "      <td>3.324038</td>\n",
       "      <td>5.797677</td>\n",
       "      <td>13.296532</td>\n",
       "      <td>9.474602</td>\n",
       "      <td>11.580881</td>\n",
       "      <td>26.441425</td>\n",
       "      <td>256.741701</td>\n",
       "    </tr>\n",
       "    <tr>\n",
       "      <th>std</th>\n",
       "      <td>0.0</td>\n",
       "      <td>1.411400</td>\n",
       "      <td>1.807262</td>\n",
       "      <td>4.101253</td>\n",
       "      <td>2.794510</td>\n",
       "      <td>3.485595</td>\n",
       "      <td>7.468702</td>\n",
       "      <td>63.265308</td>\n",
       "    </tr>\n",
       "    <tr>\n",
       "      <th>min</th>\n",
       "      <td>2014.0</td>\n",
       "      <td>1.000000</td>\n",
       "      <td>3.000000</td>\n",
       "      <td>4.600000</td>\n",
       "      <td>4.900000</td>\n",
       "      <td>4.700000</td>\n",
       "      <td>11.000000</td>\n",
       "      <td>108.000000</td>\n",
       "    </tr>\n",
       "    <tr>\n",
       "      <th>25%</th>\n",
       "      <td>2014.0</td>\n",
       "      <td>2.000000</td>\n",
       "      <td>4.000000</td>\n",
       "      <td>10.250000</td>\n",
       "      <td>7.500000</td>\n",
       "      <td>9.000000</td>\n",
       "      <td>21.000000</td>\n",
       "      <td>209.000000</td>\n",
       "    </tr>\n",
       "    <tr>\n",
       "      <th>50%</th>\n",
       "      <td>2014.0</td>\n",
       "      <td>3.300000</td>\n",
       "      <td>6.000000</td>\n",
       "      <td>12.600000</td>\n",
       "      <td>8.800000</td>\n",
       "      <td>10.900000</td>\n",
       "      <td>26.000000</td>\n",
       "      <td>251.000000</td>\n",
       "    </tr>\n",
       "    <tr>\n",
       "      <th>75%</th>\n",
       "      <td>2014.0</td>\n",
       "      <td>4.200000</td>\n",
       "      <td>8.000000</td>\n",
       "      <td>15.550000</td>\n",
       "      <td>10.850000</td>\n",
       "      <td>13.350000</td>\n",
       "      <td>31.000000</td>\n",
       "      <td>294.000000</td>\n",
       "    </tr>\n",
       "    <tr>\n",
       "      <th>max</th>\n",
       "      <td>2014.0</td>\n",
       "      <td>8.400000</td>\n",
       "      <td>12.000000</td>\n",
       "      <td>30.200000</td>\n",
       "      <td>20.500000</td>\n",
       "      <td>25.800000</td>\n",
       "      <td>60.000000</td>\n",
       "      <td>437.000000</td>\n",
       "    </tr>\n",
       "  </tbody>\n",
       "</table>\n",
       "</div>"
      ],
      "text/plain": [
       "       MODELYEAR   ENGINESIZE    CYLINDERS  FUELCONSUMPTION_CITY  \\\n",
       "count     1067.0  1040.000000  1033.000000           1067.000000   \n",
       "mean      2014.0     3.324038     5.797677             13.296532   \n",
       "std          0.0     1.411400     1.807262              4.101253   \n",
       "min       2014.0     1.000000     3.000000              4.600000   \n",
       "25%       2014.0     2.000000     4.000000             10.250000   \n",
       "50%       2014.0     3.300000     6.000000             12.600000   \n",
       "75%       2014.0     4.200000     8.000000             15.550000   \n",
       "max       2014.0     8.400000    12.000000             30.200000   \n",
       "\n",
       "       FUELCONSUMPTION_HWY  FUELCONSUMPTION_COMB  FUELCONSUMPTION_COMB_MPG  \\\n",
       "count          1067.000000           1067.000000               1067.000000   \n",
       "mean              9.474602             11.580881                 26.441425   \n",
       "std               2.794510              3.485595                  7.468702   \n",
       "min               4.900000              4.700000                 11.000000   \n",
       "25%               7.500000              9.000000                 21.000000   \n",
       "50%               8.800000             10.900000                 26.000000   \n",
       "75%              10.850000             13.350000                 31.000000   \n",
       "max              20.500000             25.800000                 60.000000   \n",
       "\n",
       "       CO2EMISSIONS  \n",
       "count    964.000000  \n",
       "mean     256.741701  \n",
       "std       63.265308  \n",
       "min      108.000000  \n",
       "25%      209.000000  \n",
       "50%      251.000000  \n",
       "75%      294.000000  \n",
       "max      437.000000  "
      ]
     },
     "metadata": {},
     "execution_count": 336
    }
   ],
   "metadata": {}
  },
  {
   "cell_type": "markdown",
   "source": [
    "As you can see above, _describe_ function shows some statistic information about each attribute or feature(column) of data set"
   ],
   "metadata": {}
  },
  {
   "cell_type": "markdown",
   "source": [
    "### Q2"
   ],
   "metadata": {}
  },
  {
   "cell_type": "code",
   "execution_count": 337,
   "source": [
    "df.info()"
   ],
   "outputs": [
    {
     "output_type": "stream",
     "name": "stdout",
     "text": [
      "<class 'pandas.core.frame.DataFrame'>\n",
      "Int64Index: 1067 entries, 0 to 1066\n",
      "Data columns (total 13 columns):\n",
      " #   Column                    Non-Null Count  Dtype  \n",
      "---  ------                    --------------  -----  \n",
      " 0   MODELYEAR                 1067 non-null   int64  \n",
      " 1   MAKE                      1067 non-null   object \n",
      " 2   MODEL                     1058 non-null   object \n",
      " 3   VEHICLECLASS              1067 non-null   object \n",
      " 4   ENGINESIZE                1040 non-null   float64\n",
      " 5   CYLINDERS                 1033 non-null   float64\n",
      " 6   TRANSMISSION              1067 non-null   object \n",
      " 7   FUELTYPE                  996 non-null    object \n",
      " 8   FUELCONSUMPTION_CITY      1067 non-null   float64\n",
      " 9   FUELCONSUMPTION_HWY       1067 non-null   float64\n",
      " 10  FUELCONSUMPTION_COMB      1067 non-null   float64\n",
      " 11  FUELCONSUMPTION_COMB_MPG  1067 non-null   int64  \n",
      " 12  CO2EMISSIONS              964 non-null    float64\n",
      "dtypes: float64(6), int64(2), object(5)\n",
      "memory usage: 116.7+ KB\n"
     ]
    }
   ],
   "metadata": {}
  },
  {
   "cell_type": "markdown",
   "source": [
    "#### Label encoding on \"FUELTYPE\" atribute:"
   ],
   "metadata": {}
  },
  {
   "cell_type": "code",
   "execution_count": 338,
   "source": [
    "label_codes = {\"FUELTYPE\": {\"D\": 0, \"E\": 1, \"X\": 2, \"Z\": 3} }\n",
    "df = df.replace(label_codes)\n",
    "df[\"FUELTYPE\"] = df[\"FUELTYPE\"].astype(\"category\")\n",
    "df.info()"
   ],
   "outputs": [
    {
     "output_type": "stream",
     "name": "stdout",
     "text": [
      "<class 'pandas.core.frame.DataFrame'>\n",
      "Int64Index: 1067 entries, 0 to 1066\n",
      "Data columns (total 13 columns):\n",
      " #   Column                    Non-Null Count  Dtype   \n",
      "---  ------                    --------------  -----   \n",
      " 0   MODELYEAR                 1067 non-null   int64   \n",
      " 1   MAKE                      1067 non-null   object  \n",
      " 2   MODEL                     1058 non-null   object  \n",
      " 3   VEHICLECLASS              1067 non-null   object  \n",
      " 4   ENGINESIZE                1040 non-null   float64 \n",
      " 5   CYLINDERS                 1033 non-null   float64 \n",
      " 6   TRANSMISSION              1067 non-null   object  \n",
      " 7   FUELTYPE                  996 non-null    category\n",
      " 8   FUELCONSUMPTION_CITY      1067 non-null   float64 \n",
      " 9   FUELCONSUMPTION_HWY       1067 non-null   float64 \n",
      " 10  FUELCONSUMPTION_COMB      1067 non-null   float64 \n",
      " 11  FUELCONSUMPTION_COMB_MPG  1067 non-null   int64   \n",
      " 12  CO2EMISSIONS              964 non-null    float64 \n",
      "dtypes: category(1), float64(6), int64(2), object(4)\n",
      "memory usage: 109.6+ KB\n"
     ]
    }
   ],
   "metadata": {}
  },
  {
   "cell_type": "markdown",
   "source": [
    "For label encoding, we used _replace_ function with this mapping: (D -> 0, E -> 1, X -> 2, Z -> 3). Note that the Dtpe is still categorical; So any numerical operation is not valid."
   ],
   "metadata": {}
  },
  {
   "cell_type": "markdown",
   "source": [
    "### Q3"
   ],
   "metadata": {}
  },
  {
   "cell_type": "markdown",
   "source": [
    "#### Showing number of NaN values for each column:"
   ],
   "metadata": {}
  },
  {
   "cell_type": "code",
   "execution_count": 339,
   "source": [
    "df.isna().sum()"
   ],
   "outputs": [
    {
     "output_type": "execute_result",
     "data": {
      "text/plain": [
       "MODELYEAR                     0\n",
       "MAKE                          0\n",
       "MODEL                         9\n",
       "VEHICLECLASS                  0\n",
       "ENGINESIZE                   27\n",
       "CYLINDERS                    34\n",
       "TRANSMISSION                  0\n",
       "FUELTYPE                     71\n",
       "FUELCONSUMPTION_CITY          0\n",
       "FUELCONSUMPTION_HWY           0\n",
       "FUELCONSUMPTION_COMB          0\n",
       "FUELCONSUMPTION_COMB_MPG      0\n",
       "CO2EMISSIONS                103\n",
       "dtype: int64"
      ]
     },
     "metadata": {},
     "execution_count": 339
    }
   ],
   "metadata": {}
  },
  {
   "cell_type": "markdown",
   "source": [
    "#### Filling NaN values with mean value for numerical columns:"
   ],
   "metadata": {}
  },
  {
   "cell_type": "code",
   "execution_count": 340,
   "source": [
    "numerical_cols = {\"ENGINESIZE\", \"CYLINDERS\"}\n",
    "df = df.apply(lambda col: col.fillna(value=np.round(col.mean())) if col.name in numerical_cols else col)"
   ],
   "outputs": [],
   "metadata": {}
  },
  {
   "cell_type": "markdown",
   "source": [
    "There was only two numerical columns with NaN values that we filled them with mean value of column. we used _round_ function to acheive rational data for columns(for example CYLINDERS cannot be float)"
   ],
   "metadata": {}
  },
  {
   "cell_type": "markdown",
   "source": [
    "#### Pros and Cons for using mean:\n",
    "One benifit of usnig mean is that you fill missed data with overall average of population; In facat, with this method, this missed data represent the average of remain population. But this is not percise; Maybe this missed data is not close to mean value; Maybe with this work, unwanted bias happens and  distribution of data changes."
   ],
   "metadata": {}
  },
  {
   "cell_type": "markdown",
   "source": [
    "#### Filling NaN values with mode value for categorical columns:"
   ],
   "metadata": {}
  },
  {
   "cell_type": "code",
   "execution_count": 341,
   "source": [
    "categorial_cols = {\"MODEL\", \"FUELTYPE\"}\n",
    "df = df.apply(lambda col: col.fillna(value=col.mode()[0]) if col.name in categorial_cols else col)"
   ],
   "outputs": [],
   "metadata": {}
  },
  {
   "cell_type": "markdown",
   "source": [
    "There was only two categorical columns with NaN values that we filled them with mode value of column."
   ],
   "metadata": {}
  },
  {
   "cell_type": "code",
   "execution_count": 342,
   "source": [
    "df.isna().sum()"
   ],
   "outputs": [
    {
     "output_type": "execute_result",
     "data": {
      "text/plain": [
       "MODELYEAR                     0\n",
       "MAKE                          0\n",
       "MODEL                         0\n",
       "VEHICLECLASS                  0\n",
       "ENGINESIZE                    0\n",
       "CYLINDERS                     0\n",
       "TRANSMISSION                  0\n",
       "FUELTYPE                      0\n",
       "FUELCONSUMPTION_CITY          0\n",
       "FUELCONSUMPTION_HWY           0\n",
       "FUELCONSUMPTION_COMB          0\n",
       "FUELCONSUMPTION_COMB_MPG      0\n",
       "CO2EMISSIONS                103\n",
       "dtype: int64"
      ]
     },
     "metadata": {},
     "execution_count": 342
    }
   ],
   "metadata": {}
  },
  {
   "cell_type": "markdown",
   "source": [
    "There is no NaN vlue in features data"
   ],
   "metadata": {}
  },
  {
   "cell_type": "markdown",
   "source": [
    "### Making Train/Test dataframe"
   ],
   "metadata": {}
  },
  {
   "cell_type": "code",
   "execution_count": 343,
   "source": [
    "train_df = df[~df[\"CO2EMISSIONS\"].isna()]\n",
    "test_df = df[df[\"CO2EMISSIONS\"].isna()]"
   ],
   "outputs": [],
   "metadata": {}
  },
  {
   "cell_type": "markdown",
   "source": [
    "### Q4"
   ],
   "metadata": {}
  },
  {
   "cell_type": "code",
   "execution_count": 344,
   "source": [
    "# Related to Q5(importing time module for measuring exe time)\n",
    "from time import time\n",
    "exe_time1 = time()\n",
    "###################\n",
    "\n",
    "print(\"City fuel consumption with CO2 Less than 240: \", train_df[train_df[\"CO2EMISSIONS\"] < 240][\"FUELCONSUMPTION_CITY\"].mean())\n",
    "print(\"City fuel consumption with CO2 More than 300: \", train_df[train_df[\"CO2EMISSIONS\"] > 300][\"FUELCONSUMPTION_CITY\"].mean())\n",
    "\n",
    "# RElated to Q5(measuring exe time)\n",
    "exe_time1 = time() - exe_time1"
   ],
   "outputs": [
    {
     "output_type": "stream",
     "name": "stdout",
     "text": [
      "City fuel consumption with CO2 Less than 240:  10.03781902552204\n",
      "City fuel consumption with CO2 More than 300:  18.663255813953487\n"
     ]
    }
   ],
   "metadata": {}
  },
  {
   "cell_type": "markdown",
   "source": [
    "In this part, we used pandas features for filtering"
   ],
   "metadata": {}
  },
  {
   "cell_type": "markdown",
   "source": [
    "### Q5"
   ],
   "metadata": {}
  },
  {
   "cell_type": "code",
   "execution_count": 345,
   "source": [
    "# measuring exe time\n",
    "exe_time2 = time()\n",
    "\n",
    "# Less than 240\n",
    "count = 0\n",
    "sum_of_fuel_consumption_240 = 0\n",
    "for i in range(len(train_df)):\n",
    "    if train_df.iloc[i][\"CO2EMISSIONS\"] < 240:\n",
    "        sum_of_fuel_consumption_240 += train_df.iloc[i][\"FUELCONSUMPTION_CITY\"]\n",
    "        count += 1\n",
    "mean_240 = sum_of_fuel_consumption_240 / count\n",
    "\n",
    "# More than 300\n",
    "count = 0\n",
    "sum_of_fuel_consumption_300 = 0\n",
    "for i in range(len(train_df)):\n",
    "    if train_df.iloc[i][\"CO2EMISSIONS\"] > 300:\n",
    "        sum_of_fuel_consumption_300 += train_df.iloc[i][\"FUELCONSUMPTION_CITY\"]\n",
    "        count += 1\n",
    "mean_300 = sum_of_fuel_consumption_300 / count\n",
    "\n",
    "# measuring exe time\n",
    "exe_time2 = time() - exe_time2\n",
    "\n",
    "print(\"City fuel consumption with CO2 Less than 240(without vectorization): \", mean_240)\n",
    "print(\"City fuel consumption with CO2 More than 300(without vectorization): \", mean_300)"
   ],
   "outputs": [
    {
     "output_type": "stream",
     "name": "stdout",
     "text": [
      "City fuel consumption with CO2 Less than 240(without vectorization):  10.037819025522042\n",
      "City fuel consumption with CO2 More than 300(without vectorization):  18.663255813953487\n"
     ]
    }
   ],
   "metadata": {}
  },
  {
   "cell_type": "code",
   "execution_count": 346,
   "source": [
    "print(\"Execution time with vectorization: %s miliseconds\" % (exe_time1 * 1000))\n",
    "print(\"Execution time without vectorization: %s miliseconds\" % (exe_time2 * 1000))"
   ],
   "outputs": [
    {
     "output_type": "stream",
     "name": "stdout",
     "text": [
      "Execution time with vectorization: 6.749629974365234 miliseconds\n",
      "Execution time without vectorization: 371.3817596435547 miliseconds\n"
     ]
    }
   ],
   "metadata": {}
  },
  {
   "cell_type": "markdown",
   "source": [
    "As you can see, in Q5, because we did not use vectorization, exectuion time is much more than execution time in Q4."
   ],
   "metadata": {}
  },
  {
   "cell_type": "markdown",
   "source": [
    "### Q6"
   ],
   "metadata": {}
  },
  {
   "cell_type": "code",
   "execution_count": 347,
   "source": [
    "train_df.info()"
   ],
   "outputs": [
    {
     "output_type": "stream",
     "name": "stdout",
     "text": [
      "<class 'pandas.core.frame.DataFrame'>\n",
      "Int64Index: 964 entries, 0 to 1066\n",
      "Data columns (total 13 columns):\n",
      " #   Column                    Non-Null Count  Dtype   \n",
      "---  ------                    --------------  -----   \n",
      " 0   MODELYEAR                 964 non-null    int64   \n",
      " 1   MAKE                      964 non-null    object  \n",
      " 2   MODEL                     964 non-null    object  \n",
      " 3   VEHICLECLASS              964 non-null    object  \n",
      " 4   ENGINESIZE                964 non-null    float64 \n",
      " 5   CYLINDERS                 964 non-null    float64 \n",
      " 6   TRANSMISSION              964 non-null    object  \n",
      " 7   FUELTYPE                  964 non-null    category\n",
      " 8   FUELCONSUMPTION_CITY      964 non-null    float64 \n",
      " 9   FUELCONSUMPTION_HWY       964 non-null    float64 \n",
      " 10  FUELCONSUMPTION_COMB      964 non-null    float64 \n",
      " 11  FUELCONSUMPTION_COMB_MPG  964 non-null    int64   \n",
      " 12  CO2EMISSIONS              964 non-null    float64 \n",
      "dtypes: category(1), float64(6), int64(2), object(4)\n",
      "memory usage: 99.0+ KB\n"
     ]
    }
   ],
   "metadata": {}
  },
  {
   "cell_type": "code",
   "execution_count": 348,
   "source": [
    "train_df.hist(column=\"MODELYEAR\", bins=20)\n",
    "plt.xlabel(\"Year\")\n",
    "plt.ylabel(\"Frequncy\")"
   ],
   "outputs": [
    {
     "output_type": "execute_result",
     "data": {
      "text/plain": [
       "Text(0, 0.5, 'Frequncy')"
      ]
     },
     "metadata": {},
     "execution_count": 348
    },
    {
     "output_type": "display_data",
     "data": {
      "image/png": "[encoded data removed]",
      "text/plain": [
       "<Figure size 432x288 with 1 Axes>"
      ]
     },
     "metadata": {
      "needs_background": "light"
     }
    }
   ],
   "metadata": {}
  },
  {
   "cell_type": "markdown",
   "source": [
    "Form this plot we can obseve that MODELYEAR data has just one value"
   ],
   "metadata": {}
  },
  {
   "cell_type": "code",
   "execution_count": 349,
   "source": [
    "train_df.hist(column=\"ENGINESIZE\")\n",
    "plt.xlabel(\"Size\")\n",
    "plt.ylabel(\"Frequncy\")"
   ],
   "outputs": [
    {
     "output_type": "execute_result",
     "data": {
      "text/plain": [
       "Text(0, 0.5, 'Frequncy')"
      ]
     },
     "metadata": {},
     "execution_count": 349
    },
    {
     "output_type": "display_data",
     "data": {
      "image/png": "[encoded data removed]",
      "text/plain": [
       "<Figure size 432x288 with 1 Axes>"
      ]
     },
     "metadata": {
      "needs_background": "light"
     }
    }
   ],
   "metadata": {}
  },
  {
   "cell_type": "markdown",
   "source": [
    "Form this plot we can obseve that distribution of ENGINESIZE is approximately normal"
   ],
   "metadata": {}
  },
  {
   "cell_type": "code",
   "execution_count": 350,
   "source": [
    "train_df.hist(column=\"CYLINDERS\")\n",
    "plt.xlabel(\"Number of cylenders\")\n",
    "plt.ylabel(\"Frequncy\")"
   ],
   "outputs": [
    {
     "output_type": "execute_result",
     "data": {
      "text/plain": [
       "Text(0, 0.5, 'Frequncy')"
      ]
     },
     "metadata": {},
     "execution_count": 350
    },
    {
     "output_type": "display_data",
     "data": {
      "image/png": "[encoded data removed]",
      "text/plain": [
       "<Figure size 432x288 with 1 Axes>"
      ]
     },
     "metadata": {
      "needs_background": "light"
     }
    }
   ],
   "metadata": {}
  },
  {
   "cell_type": "markdown",
   "source": [
    "Form this plot we can obseve that most of populatinon have 4 or 6 or 8 cylinders"
   ],
   "metadata": {}
  },
  {
   "cell_type": "code",
   "execution_count": 351,
   "source": [
    "train_df.hist(column=\"FUELCONSUMPTION_CITY\")\n",
    "plt.xlabel(\"Consumption\")\n",
    "plt.ylabel(\"Frequncy\")"
   ],
   "outputs": [
    {
     "output_type": "execute_result",
     "data": {
      "text/plain": [
       "Text(0, 0.5, 'Frequncy')"
      ]
     },
     "metadata": {},
     "execution_count": 351
    },
    {
     "output_type": "display_data",
     "data": {
      "image/png": "[encoded data removed]",
      "text/plain": [
       "<Figure size 432x288 with 1 Axes>"
      ]
     },
     "metadata": {
      "needs_background": "light"
     }
    }
   ],
   "metadata": {}
  },
  {
   "cell_type": "markdown",
   "source": [
    "Form this plot we can obseve that distribution of FUELCONSUMPTION_CITY is approximately normal wtih little Skewness to the left."
   ],
   "metadata": {}
  },
  {
   "cell_type": "code",
   "execution_count": 352,
   "source": [
    "train_df.hist(column=\"FUELCONSUMPTION_HWY\")\n",
    "plt.xlabel(\"Consumption\")\n",
    "plt.ylabel(\"Frequncy\")"
   ],
   "outputs": [
    {
     "output_type": "execute_result",
     "data": {
      "text/plain": [
       "Text(0, 0.5, 'Frequncy')"
      ]
     },
     "metadata": {},
     "execution_count": 352
    },
    {
     "output_type": "display_data",
     "data": {
      "image/png": "[encoded data removed]",
      "text/plain": [
       "<Figure size 432x288 with 1 Axes>"
      ]
     },
     "metadata": {
      "needs_background": "light"
     }
    }
   ],
   "metadata": {}
  },
  {
   "cell_type": "markdown",
   "source": [
    "Form this plot we can obseve that distribution of FUELCONSUMPTION_HWY is approximately normal wtih little Skewness to the left."
   ],
   "metadata": {}
  },
  {
   "cell_type": "code",
   "execution_count": 353,
   "source": [
    "train_df.hist(column=\"FUELCONSUMPTION_COMB\")\n",
    "plt.xlabel(\"Consumption\")\n",
    "plt.ylabel(\"Frequncy\")"
   ],
   "outputs": [
    {
     "output_type": "execute_result",
     "data": {
      "text/plain": [
       "Text(0, 0.5, 'Frequncy')"
      ]
     },
     "metadata": {},
     "execution_count": 353
    },
    {
     "output_type": "display_data",
     "data": {
      "image/png": "[encoded data removed]",
      "text/plain": [
       "<Figure size 432x288 with 1 Axes>"
      ]
     },
     "metadata": {
      "needs_background": "light"
     }
    }
   ],
   "metadata": {}
  },
  {
   "cell_type": "markdown",
   "source": [
    "Form this plot we can obseve that distribution of FUELCONSUMPTION_COMB is approximately normal wtih little Skewness to the left."
   ],
   "metadata": {}
  },
  {
   "cell_type": "code",
   "execution_count": 354,
   "source": [
    "train_df.hist(column=\"FUELCONSUMPTION_COMB_MPG\")\n",
    "plt.xlabel(\"Consumption\")\n",
    "plt.ylabel(\"Frequncy\")"
   ],
   "outputs": [
    {
     "output_type": "execute_result",
     "data": {
      "text/plain": [
       "Text(0, 0.5, 'Frequncy')"
      ]
     },
     "metadata": {},
     "execution_count": 354
    },
    {
     "output_type": "display_data",
     "data": {
      "image/png": "[encoded data removed]",
      "text/plain": [
       "<Figure size 432x288 with 1 Axes>"
      ]
     },
     "metadata": {
      "needs_background": "light"
     }
    }
   ],
   "metadata": {}
  },
  {
   "cell_type": "markdown",
   "source": [
    "Form this plot we can obseve that distribution of FUELCONSUMPTION_COMB_MPG is approximately normal wtih little Skewness to the left."
   ],
   "metadata": {}
  },
  {
   "cell_type": "code",
   "execution_count": 355,
   "source": [
    "train_df.hist(column=\"CO2EMISSIONS\")\n",
    "plt.xlabel(\"Consumption\")\n",
    "plt.ylabel(\"Frequncy\")\n"
   ],
   "outputs": [
    {
     "output_type": "execute_result",
     "data": {
      "text/plain": [
       "Text(0, 0.5, 'Frequncy')"
      ]
     },
     "metadata": {},
     "execution_count": 355
    },
    {
     "output_type": "display_data",
     "data": {
      "image/png": "[encoded data removed]",
      "text/plain": [
       "<Figure size 432x288 with 1 Axes>"
      ]
     },
     "metadata": {
      "needs_background": "light"
     }
    }
   ],
   "metadata": {}
  },
  {
   "cell_type": "markdown",
   "source": [
    "Form this plot we can obseve that distribution of FUELCONSUMPTION_COMB_MPG is approximately normal."
   ],
   "metadata": {}
  },
  {
   "cell_type": "markdown",
   "source": [
    "#### Droping categorical columns:"
   ],
   "metadata": {}
  },
  {
   "cell_type": "code",
   "execution_count": 356,
   "source": [
    "to_drop = {\"MAKE\", \"MODEL\", \"VEHICLECLASS\", \"TRANSMISSION\", \"FUELTYPE\"}\n",
    "train_df = train_df.drop(labels=to_drop, axis=1)\n",
    "test_df = test_df.drop(labels=to_drop, axis=1)"
   ],
   "outputs": [],
   "metadata": {}
  },
  {
   "cell_type": "markdown",
   "source": [
    "### Q7"
   ],
   "metadata": {}
  },
  {
   "cell_type": "code",
   "execution_count": 357,
   "source": [
    "train_df_normal = train_df.apply(lambda col : (col - col.mean())/col.std() if col.name != \"MODELYEAR\" else col)\n",
    "train_df_normal"
   ],
   "outputs": [
    {
     "output_type": "execute_result",
     "data": {
      "text/html": [
       "<div>\n",
       "<style scoped>\n",
       "    .dataframe tbody tr th:only-of-type {\n",
       "        vertical-align: middle;\n",
       "    }\n",
       "\n",
       "    .dataframe tbody tr th {\n",
       "        vertical-align: top;\n",
       "    }\n",
       "\n",
       "    .dataframe thead th {\n",
       "        text-align: right;\n",
       "    }\n",
       "</style>\n",
       "<table border=\"1\" class=\"dataframe\">\n",
       "  <thead>\n",
       "    <tr style=\"text-align: right;\">\n",
       "      <th></th>\n",
       "      <th>MODELYEAR</th>\n",
       "      <th>ENGINESIZE</th>\n",
       "      <th>CYLINDERS</th>\n",
       "      <th>FUELCONSUMPTION_CITY</th>\n",
       "      <th>FUELCONSUMPTION_HWY</th>\n",
       "      <th>FUELCONSUMPTION_COMB</th>\n",
       "      <th>FUELCONSUMPTION_COMB_MPG</th>\n",
       "      <th>CO2EMISSIONS</th>\n",
       "    </tr>\n",
       "  </thead>\n",
       "  <tbody>\n",
       "    <tr>\n",
       "      <th>0</th>\n",
       "      <td>2014</td>\n",
       "      <td>-0.966503</td>\n",
       "      <td>-1.027487</td>\n",
       "      <td>-0.833605</td>\n",
       "      <td>-0.994870</td>\n",
       "      <td>-0.888216</td>\n",
       "      <td>0.886286</td>\n",
       "      <td>-0.960111</td>\n",
       "    </tr>\n",
       "    <tr>\n",
       "      <th>1</th>\n",
       "      <td>2014</td>\n",
       "      <td>-0.676860</td>\n",
       "      <td>-1.027487</td>\n",
       "      <td>-0.519842</td>\n",
       "      <td>-0.641939</td>\n",
       "      <td>-0.576247</td>\n",
       "      <td>0.352882</td>\n",
       "      <td>-0.564949</td>\n",
       "    </tr>\n",
       "    <tr>\n",
       "      <th>2</th>\n",
       "      <td>2014</td>\n",
       "      <td>-1.328556</td>\n",
       "      <td>-1.027487</td>\n",
       "      <td>-1.774893</td>\n",
       "      <td>-1.312508</td>\n",
       "      <td>-1.625596</td>\n",
       "      <td>2.886552</td>\n",
       "      <td>-1.908498</td>\n",
       "    </tr>\n",
       "    <tr>\n",
       "      <th>4</th>\n",
       "      <td>2014</td>\n",
       "      <td>0.119658</td>\n",
       "      <td>0.096801</td>\n",
       "      <td>-0.302621</td>\n",
       "      <td>-0.289008</td>\n",
       "      <td>-0.292640</td>\n",
       "      <td>0.086180</td>\n",
       "      <td>-0.201401</td>\n",
       "    </tr>\n",
       "    <tr>\n",
       "      <th>5</th>\n",
       "      <td>2014</td>\n",
       "      <td>0.119658</td>\n",
       "      <td>0.096801</td>\n",
       "      <td>-0.350893</td>\n",
       "      <td>-0.641939</td>\n",
       "      <td>-0.462804</td>\n",
       "      <td>0.219531</td>\n",
       "      <td>-0.422691</td>\n",
       "    </tr>\n",
       "    <tr>\n",
       "      <th>...</th>\n",
       "      <td>...</td>\n",
       "      <td>...</td>\n",
       "      <td>...</td>\n",
       "      <td>...</td>\n",
       "      <td>...</td>\n",
       "      <td>...</td>\n",
       "      <td>...</td>\n",
       "      <td>...</td>\n",
       "    </tr>\n",
       "    <tr>\n",
       "      <th>1062</th>\n",
       "      <td>2014</td>\n",
       "      <td>-0.242396</td>\n",
       "      <td>0.096801</td>\n",
       "      <td>0.011141</td>\n",
       "      <td>0.099216</td>\n",
       "      <td>0.047690</td>\n",
       "      <td>-0.313873</td>\n",
       "      <td>0.225373</td>\n",
       "    </tr>\n",
       "    <tr>\n",
       "      <th>1063</th>\n",
       "      <td>2014</td>\n",
       "      <td>-0.097574</td>\n",
       "      <td>0.096801</td>\n",
       "      <td>-0.037130</td>\n",
       "      <td>-0.006663</td>\n",
       "      <td>-0.037393</td>\n",
       "      <td>-0.180522</td>\n",
       "      <td>0.114728</td>\n",
       "    </tr>\n",
       "    <tr>\n",
       "      <th>1064</th>\n",
       "      <td>2014</td>\n",
       "      <td>-0.242396</td>\n",
       "      <td>0.096801</td>\n",
       "      <td>0.011141</td>\n",
       "      <td>0.099216</td>\n",
       "      <td>0.047690</td>\n",
       "      <td>-0.313873</td>\n",
       "      <td>0.225373</td>\n",
       "    </tr>\n",
       "    <tr>\n",
       "      <th>1065</th>\n",
       "      <td>2014</td>\n",
       "      <td>-0.097574</td>\n",
       "      <td>0.096801</td>\n",
       "      <td>-0.109537</td>\n",
       "      <td>-0.077249</td>\n",
       "      <td>-0.094114</td>\n",
       "      <td>-0.180522</td>\n",
       "      <td>0.051502</td>\n",
       "    </tr>\n",
       "    <tr>\n",
       "      <th>1066</th>\n",
       "      <td>2014</td>\n",
       "      <td>-0.097574</td>\n",
       "      <td>0.096801</td>\n",
       "      <td>0.373175</td>\n",
       "      <td>0.240388</td>\n",
       "      <td>0.331297</td>\n",
       "      <td>-0.580575</td>\n",
       "      <td>0.588921</td>\n",
       "    </tr>\n",
       "  </tbody>\n",
       "</table>\n",
       "<p>964 rows × 8 columns</p>\n",
       "</div>"
      ],
      "text/plain": [
       "      MODELYEAR  ENGINESIZE  CYLINDERS  FUELCONSUMPTION_CITY  \\\n",
       "0          2014   -0.966503  -1.027487             -0.833605   \n",
       "1          2014   -0.676860  -1.027487             -0.519842   \n",
       "2          2014   -1.328556  -1.027487             -1.774893   \n",
       "4          2014    0.119658   0.096801             -0.302621   \n",
       "5          2014    0.119658   0.096801             -0.350893   \n",
       "...         ...         ...        ...                   ...   \n",
       "1062       2014   -0.242396   0.096801              0.011141   \n",
       "1063       2014   -0.097574   0.096801             -0.037130   \n",
       "1064       2014   -0.242396   0.096801              0.011141   \n",
       "1065       2014   -0.097574   0.096801             -0.109537   \n",
       "1066       2014   -0.097574   0.096801              0.373175   \n",
       "\n",
       "      FUELCONSUMPTION_HWY  FUELCONSUMPTION_COMB  FUELCONSUMPTION_COMB_MPG  \\\n",
       "0               -0.994870             -0.888216                  0.886286   \n",
       "1               -0.641939             -0.576247                  0.352882   \n",
       "2               -1.312508             -1.625596                  2.886552   \n",
       "4               -0.289008             -0.292640                  0.086180   \n",
       "5               -0.641939             -0.462804                  0.219531   \n",
       "...                   ...                   ...                       ...   \n",
       "1062             0.099216              0.047690                 -0.313873   \n",
       "1063            -0.006663             -0.037393                 -0.180522   \n",
       "1064             0.099216              0.047690                 -0.313873   \n",
       "1065            -0.077249             -0.094114                 -0.180522   \n",
       "1066             0.240388              0.331297                 -0.580575   \n",
       "\n",
       "      CO2EMISSIONS  \n",
       "0        -0.960111  \n",
       "1        -0.564949  \n",
       "2        -1.908498  \n",
       "4        -0.201401  \n",
       "5        -0.422691  \n",
       "...            ...  \n",
       "1062      0.225373  \n",
       "1063      0.114728  \n",
       "1064      0.225373  \n",
       "1065      0.051502  \n",
       "1066      0.588921  \n",
       "\n",
       "[964 rows x 8 columns]"
      ]
     },
     "metadata": {},
     "execution_count": 357
    }
   ],
   "metadata": {}
  },
  {
   "cell_type": "markdown",
   "source": [
    "we did not normalize \"MODELYEAR\" colmn, because it has only one value (which is 2014) so standard deviation is 0. Also because it has one value, it is not useful in predicting output."
   ],
   "metadata": {}
  },
  {
   "cell_type": "markdown",
   "source": [
    "### Q8"
   ],
   "metadata": {}
  },
  {
   "cell_type": "code",
   "execution_count": 358,
   "source": [
    "plt.scatter(train_df_normal[\"MODELYEAR\"], train_df_normal[\"CO2EMISSIONS\"])\n",
    "plt.xlim(2010, 2020)\n",
    "plt.xlabel(\"MODELYEAR\")\n",
    "plt.ylabel(\"CO2EMISSIONS\")\n",
    "plt.title(\"CO2EMISSIONS based on MODELYEAR\")"
   ],
   "outputs": [
    {
     "output_type": "execute_result",
     "data": {
      "text/plain": [
       "Text(0.5, 1.0, 'CO2EMISSIONS based on MODELYEAR')"
      ]
     },
     "metadata": {},
     "execution_count": 358
    },
    {
     "output_type": "display_data",
     "data": {
      "image/png": "[encoded data removed]",
      "text/plain": [
       "<Figure size 432x288 with 1 Axes>"
      ]
     },
     "metadata": {
      "needs_background": "light"
     }
    }
   ],
   "metadata": {}
  },
  {
   "cell_type": "markdown",
   "source": [
    "This is obvious from this plot that \"MODELYEAR\" is not good for predicting"
   ],
   "metadata": {}
  },
  {
   "cell_type": "code",
   "execution_count": 359,
   "source": [
    "fig, axes = plt.subplots(2,3, figsize=(15, 9))\n",
    "axes = axes.reshape(-1)\n",
    "\n",
    "atributes = train_df_normal.keys()\n",
    "for ind in range(atributes.size-2):\n",
    "    axes[ind].scatter(train_df_normal[atributes[ind+1]], train_df_normal[\"CO2EMISSIONS\"])\n",
    "    axes[ind].set_xlabel(atributes[ind+1])\n",
    "    axes[ind].set_ylabel(\"CO2EMISSIONS\")\n",
    "    axes[ind].set_title(\"based on \" + atributes[ind+1])\n",
    "\n",
    "plt.subplots_adjust(top=1)\n"
   ],
   "outputs": [
    {
     "output_type": "display_data",
     "data": {
      "image/png": "[encoded data removed]",
      "text/plain": [
       "<Figure size 1080x648 with 6 Axes>"
      ]
     },
     "metadata": {
      "needs_background": "light"
     }
    }
   ],
   "metadata": {}
  },
  {
   "cell_type": "markdown",
   "source": [
    "### B)\n",
    "we use \"FUELCONSUMPTION_COMB\" atribute to predict. Because we are going to predict output with linear predictor, and output(\"CO2MISSIONS\") has more linear relation with this attribute, compare to others(at least with unarmed eye). Also, spots of  related plot of this attribute (bottom middle) have less deviation(after ignoring noisy spots)"
   ],
   "metadata": {}
  },
  {
   "cell_type": "markdown",
   "source": [
    "### Q9 & 10"
   ],
   "metadata": {}
  },
  {
   "cell_type": "markdown",
   "source": [
    "#### building new DataFrame:"
   ],
   "metadata": {}
  },
  {
   "cell_type": "code",
   "execution_count": 360,
   "source": [
    "train = train_df_normal[[\"FUELCONSUMPTION_COMB\", \"CO2EMISSIONS\"]].copy()\n",
    "train"
   ],
   "outputs": [
    {
     "output_type": "execute_result",
     "data": {
      "text/html": [
       "<div>\n",
       "<style scoped>\n",
       "    .dataframe tbody tr th:only-of-type {\n",
       "        vertical-align: middle;\n",
       "    }\n",
       "\n",
       "    .dataframe tbody tr th {\n",
       "        vertical-align: top;\n",
       "    }\n",
       "\n",
       "    .dataframe thead th {\n",
       "        text-align: right;\n",
       "    }\n",
       "</style>\n",
       "<table border=\"1\" class=\"dataframe\">\n",
       "  <thead>\n",
       "    <tr style=\"text-align: right;\">\n",
       "      <th></th>\n",
       "      <th>FUELCONSUMPTION_COMB</th>\n",
       "      <th>CO2EMISSIONS</th>\n",
       "    </tr>\n",
       "  </thead>\n",
       "  <tbody>\n",
       "    <tr>\n",
       "      <th>0</th>\n",
       "      <td>-0.888216</td>\n",
       "      <td>-0.960111</td>\n",
       "    </tr>\n",
       "    <tr>\n",
       "      <th>1</th>\n",
       "      <td>-0.576247</td>\n",
       "      <td>-0.564949</td>\n",
       "    </tr>\n",
       "    <tr>\n",
       "      <th>2</th>\n",
       "      <td>-1.625596</td>\n",
       "      <td>-1.908498</td>\n",
       "    </tr>\n",
       "    <tr>\n",
       "      <th>4</th>\n",
       "      <td>-0.292640</td>\n",
       "      <td>-0.201401</td>\n",
       "    </tr>\n",
       "    <tr>\n",
       "      <th>5</th>\n",
       "      <td>-0.462804</td>\n",
       "      <td>-0.422691</td>\n",
       "    </tr>\n",
       "    <tr>\n",
       "      <th>...</th>\n",
       "      <td>...</td>\n",
       "      <td>...</td>\n",
       "    </tr>\n",
       "    <tr>\n",
       "      <th>1062</th>\n",
       "      <td>0.047690</td>\n",
       "      <td>0.225373</td>\n",
       "    </tr>\n",
       "    <tr>\n",
       "      <th>1063</th>\n",
       "      <td>-0.037393</td>\n",
       "      <td>0.114728</td>\n",
       "    </tr>\n",
       "    <tr>\n",
       "      <th>1064</th>\n",
       "      <td>0.047690</td>\n",
       "      <td>0.225373</td>\n",
       "    </tr>\n",
       "    <tr>\n",
       "      <th>1065</th>\n",
       "      <td>-0.094114</td>\n",
       "      <td>0.051502</td>\n",
       "    </tr>\n",
       "    <tr>\n",
       "      <th>1066</th>\n",
       "      <td>0.331297</td>\n",
       "      <td>0.588921</td>\n",
       "    </tr>\n",
       "  </tbody>\n",
       "</table>\n",
       "<p>964 rows × 2 columns</p>\n",
       "</div>"
      ],
      "text/plain": [
       "      FUELCONSUMPTION_COMB  CO2EMISSIONS\n",
       "0                -0.888216     -0.960111\n",
       "1                -0.576247     -0.564949\n",
       "2                -1.625596     -1.908498\n",
       "4                -0.292640     -0.201401\n",
       "5                -0.462804     -0.422691\n",
       "...                    ...           ...\n",
       "1062              0.047690      0.225373\n",
       "1063             -0.037393      0.114728\n",
       "1064              0.047690      0.225373\n",
       "1065             -0.094114      0.051502\n",
       "1066              0.331297      0.588921\n",
       "\n",
       "[964 rows x 2 columns]"
      ]
     },
     "metadata": {},
     "execution_count": 360
    }
   ],
   "metadata": {}
  },
  {
   "cell_type": "markdown",
   "source": [
    "For finding(theta0 and theta1) features of this linear regression, we use normal equation method.\n",
    "This is the formula of normal equation: $(X^TX)^{-1}.(X^Ty)$ which X is feature data and y is labeled data"
   ],
   "metadata": {}
  },
  {
   "cell_type": "code",
   "execution_count": 361,
   "source": [
    "X = np.c_[np.ones(train.shape[0]), train[\"FUELCONSUMPTION_COMB\"]]\n",
    "y = train[\"CO2EMISSIONS\"].to_numpy()"
   ],
   "outputs": [],
   "metadata": {}
  },
  {
   "cell_type": "code",
   "execution_count": 362,
   "source": [
    "from numpy.linalg import inv\n",
    "\n",
    "X_transpose = np.transpose(X)\n",
    "theta = np.matmul(np.matmul(inv(np.matmul(X_transpose, X)),X_transpose),y)\n",
    "theta"
   ],
   "outputs": [
    {
     "output_type": "execute_result",
     "data": {
      "text/plain": [
       "array([2.75821033e-16, 8.88687103e-01])"
      ]
     },
     "metadata": {},
     "execution_count": 362
    }
   ],
   "metadata": {}
  },
  {
   "cell_type": "markdown",
   "source": [
    "#### Now calculating MSE:"
   ],
   "metadata": {}
  },
  {
   "cell_type": "code",
   "execution_count": 363,
   "source": [
    "MSE = np.square(y - np.matmul(X, theta)).sum() / len(y)\n",
    "MSE"
   ],
   "outputs": [
    {
     "output_type": "execute_result",
     "data": {
      "text/plain": [
       "0.2100171470129475"
      ]
     },
     "metadata": {},
     "execution_count": 363
    }
   ],
   "metadata": {}
  },
  {
   "cell_type": "markdown",
   "source": [
    "As you can see, MSE is less than 0.5"
   ],
   "metadata": {}
  },
  {
   "cell_type": "markdown",
   "source": [
    "### Q11"
   ],
   "metadata": {}
  },
  {
   "cell_type": "code",
   "execution_count": 364,
   "source": [
    "plt.scatter(train[\"FUELCONSUMPTION_COMB\"], train[\"CO2EMISSIONS\"])\n",
    "plt.xlabel(\"FUELCONSUMPTION_COMB\")\n",
    "plt.ylabel(\"CO2EMISSIONS\")\n",
    "plt.title(\"Orginal trained labels and Prediction\")\n",
    "\n",
    "prediction = np.matmul(X, theta)\n",
    "plt.plot(train[\"FUELCONSUMPTION_COMB\"], prediction, c=\"red\", label=\"prediction\")\n",
    "plt.legend(loc=\"lower right\")"
   ],
   "outputs": [
    {
     "output_type": "execute_result",
     "data": {
      "text/plain": [
       "<matplotlib.legend.Legend at 0x7fb831d5f700>"
      ]
     },
     "metadata": {},
     "execution_count": 364
    },
    {
     "output_type": "display_data",
     "data": {
      "image/png": "[encoded data removed]",
      "text/plain": [
       "<Figure size 432x288 with 1 Axes>"
      ]
     },
     "metadata": {
      "needs_background": "light"
     }
    }
   ],
   "metadata": {}
  },
  {
   "cell_type": "markdown",
   "source": [
    "As you can see, predicted values, are approximately good and they are near orginal values. In low values of horizontal axis, the predicted values are approximatey as same as orginal values. but in high values of horizontal axis, distance between the red line and spoted blue line( main line which is above of red line) increases. That's because of noisy spots that are below of red line which is effecting prediction and predicted values are getting closer to them."
   ],
   "metadata": {}
  },
  {
   "cell_type": "markdown",
   "source": [
    "### Q12"
   ],
   "metadata": {}
  },
  {
   "cell_type": "code",
   "execution_count": 365,
   "source": [
    "# extracting test feature data and normalizing it\n",
    "X_test = (test_df[\"FUELCONSUMPTION_COMB\"] - train_df[\"FUELCONSUMPTION_COMB\"].mean()) / train_df[\"FUELCONSUMPTION_COMB\"].std()\n",
    "X_test = np.c_[np.ones(X_test.shape[0]), X_test]\n",
    "\n",
    "predicted = np.matmul(X_test, theta)\n",
    "#denormalizing\n",
    "predicted = predicted * train_df[\"CO2EMISSIONS\"].std() + train_df[\"CO2EMISSIONS\"].mean()\n",
    "predicted"
   ],
   "outputs": [
    {
     "output_type": "execute_result",
     "data": {
      "text/plain": [
       "array([248.26125426, 230.72143374, 249.8557834 , 281.74636617,\n",
       "       245.07219598, 304.0697741 , 353.50017739, 265.80107478,\n",
       "       235.50502115, 209.99255494, 232.31596288, 246.66672512,\n",
       "       206.80349666, 232.31596288, 243.47766685, 275.36824961,\n",
       "       248.26125426, 249.8557834 , 249.8557834 , 184.48008873,\n",
       "       240.28860857, 240.28860857, 273.77372047, 198.83085097,\n",
       "       190.85820528, 203.61443839, 364.66188136, 205.20896752,\n",
       "       275.36824961, 300.88071583, 334.36582773, 248.26125426,\n",
       "       197.23632183, 179.69650131, 409.30869724, 219.55972977,\n",
       "       337.55488601, 264.20654564, 275.36824961, 235.50502115,\n",
       "       267.39560392, 224.34331719, 262.61201651, 219.55972977,\n",
       "       238.69407943, 254.63937081, 235.50502115, 238.69407943,\n",
       "       283.34089531, 268.99013306, 289.71901186, 221.15425891,\n",
       "       284.93542444, 192.45273442, 211.58708408, 251.45031254,\n",
       "       334.36582773, 189.26367614, 182.88555959, 187.669147  ,\n",
       "       198.83085097, 221.15425891, 238.69407943, 312.0424198 ,\n",
       "       280.15183703, 237.09955029, 211.58708408, 286.52995358,\n",
       "       320.01506549, 323.20412376, 213.18161322, 195.64179269,\n",
       "       203.61443839, 206.80349666, 203.61443839, 203.61443839,\n",
       "       208.3980258 , 253.04484168, 192.45273442, 195.64179269,\n",
       "       194.04726356, 289.71901186, 246.66672512, 289.71901186,\n",
       "       248.26125426, 276.96277875, 339.14941515, 343.93300256,\n",
       "       173.31838476, 340.74394429, 206.80349666, 270.5846622 ,\n",
       "       214.77614236, 162.15668079, 189.26367614, 337.55488601,\n",
       "       312.0424198 , 219.55972977, 221.15425891, 227.53237546,\n",
       "       241.88313771, 256.23389995, 241.88313771])"
      ]
     },
     "metadata": {},
     "execution_count": 365
    }
   ],
   "metadata": {}
  },
  {
   "cell_type": "markdown",
   "source": [
    "For Predicting test dataset, fist we extract \"FUELCONSUMPTION_COMB\" feature data and normalize it with mean and standard deviation of train dataset. Because the theta vector that is calculated, is trained on a data that was normalized with this mean and standard deviation values. Then after predicting we denormalize predicted values, again with corresponding mean and standard deviation in train dataset"
   ],
   "metadata": {}
  },
  {
   "cell_type": "code",
   "execution_count": 366,
   "source": [
    "plt.plot(test_df[\"FUELCONSUMPTION_COMB\"], predicted, c=\"red\", label=\"prediction\")\n",
    "plt.xlabel(\"FUELCONSUMPTION_COMB\")\n",
    "plt.ylabel(\"CO2EMISSIONS\")\n",
    "plt.title(\"Prediction on test data\")"
   ],
   "outputs": [
    {
     "output_type": "execute_result",
     "data": {
      "text/plain": [
       "Text(0.5, 1.0, 'Prediction on test data')"
      ]
     },
     "metadata": {},
     "execution_count": 366
    },
    {
     "output_type": "display_data",
     "data": {
      "image/png": "[encoded data removed]",
      "text/plain": [
       "<Figure size 432x288 with 1 Axes>"
      ]
     },
     "metadata": {
      "needs_background": "light"
     }
    }
   ],
   "metadata": {}
  },
  {
   "cell_type": "markdown",
   "source": [
    "#### Writing predicted values in csv file:"
   ],
   "metadata": {}
  },
  {
   "cell_type": "code",
   "execution_count": 367,
   "source": [
    "output_prediction = pd.DataFrame(test_df[\"CO2EMISSIONS\"])\n",
    "output_prediction.iloc[:,:] = predicted.reshape(-1,1)\n",
    "output_prediction\n"
   ],
   "outputs": [
    {
     "output_type": "execute_result",
     "data": {
      "text/html": [
       "<div>\n",
       "<style scoped>\n",
       "    .dataframe tbody tr th:only-of-type {\n",
       "        vertical-align: middle;\n",
       "    }\n",
       "\n",
       "    .dataframe tbody tr th {\n",
       "        vertical-align: top;\n",
       "    }\n",
       "\n",
       "    .dataframe thead th {\n",
       "        text-align: right;\n",
       "    }\n",
       "</style>\n",
       "<table border=\"1\" class=\"dataframe\">\n",
       "  <thead>\n",
       "    <tr style=\"text-align: right;\">\n",
       "      <th></th>\n",
       "      <th>CO2EMISSIONS</th>\n",
       "    </tr>\n",
       "  </thead>\n",
       "  <tbody>\n",
       "    <tr>\n",
       "      <th>3</th>\n",
       "      <td>248.261254</td>\n",
       "    </tr>\n",
       "    <tr>\n",
       "      <th>20</th>\n",
       "      <td>230.721434</td>\n",
       "    </tr>\n",
       "    <tr>\n",
       "      <th>30</th>\n",
       "      <td>249.855783</td>\n",
       "    </tr>\n",
       "    <tr>\n",
       "      <th>42</th>\n",
       "      <td>281.746366</td>\n",
       "    </tr>\n",
       "    <tr>\n",
       "      <th>43</th>\n",
       "      <td>245.072196</td>\n",
       "    </tr>\n",
       "    <tr>\n",
       "      <th>...</th>\n",
       "      <td>...</td>\n",
       "    </tr>\n",
       "    <tr>\n",
       "      <th>1022</th>\n",
       "      <td>221.154259</td>\n",
       "    </tr>\n",
       "    <tr>\n",
       "      <th>1027</th>\n",
       "      <td>227.532375</td>\n",
       "    </tr>\n",
       "    <tr>\n",
       "      <th>1051</th>\n",
       "      <td>241.883138</td>\n",
       "    </tr>\n",
       "    <tr>\n",
       "      <th>1052</th>\n",
       "      <td>256.233900</td>\n",
       "    </tr>\n",
       "    <tr>\n",
       "      <th>1053</th>\n",
       "      <td>241.883138</td>\n",
       "    </tr>\n",
       "  </tbody>\n",
       "</table>\n",
       "<p>103 rows × 1 columns</p>\n",
       "</div>"
      ],
      "text/plain": [
       "      CO2EMISSIONS\n",
       "3       248.261254\n",
       "20      230.721434\n",
       "30      249.855783\n",
       "42      281.746366\n",
       "43      245.072196\n",
       "...            ...\n",
       "1022    221.154259\n",
       "1027    227.532375\n",
       "1051    241.883138\n",
       "1052    256.233900\n",
       "1053    241.883138\n",
       "\n",
       "[103 rows x 1 columns]"
      ]
     },
     "metadata": {},
     "execution_count": 367
    }
   ],
   "metadata": {}
  },
  {
   "cell_type": "code",
   "execution_count": 368,
   "source": [
    "output_prediction.to_csv(\"output_prediction.csv\", index=True)"
   ],
   "outputs": [],
   "metadata": {}
  }
 ],
 "metadata": {
  "orig_nbformat": 4,
  "language_info": {
   "name": "python",
   "version": "3.8.10",
   "mimetype": "text/x-python",
   "codemirror_mode": {
    "name": "ipython",
    "version": 3
   },
   "pygments_lexer": "ipython3",
   "nbconvert_exporter": "python",
   "file_extension": ".py"
  },
  "kernelspec": {
   "name": "python3",
   "display_name": "Python 3.8.10 64-bit"
  },
  "interpreter": {
   "hash": "916dbcbb3f70747c44a77c7bcd40155683ae19c65e1c03b4aa3499c5328201f1"
  }
 },
 "nbformat": 4,
 "nbformat_minor": 2
}